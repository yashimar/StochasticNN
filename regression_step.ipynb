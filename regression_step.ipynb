{
 "cells": [
  {
   "cell_type": "markdown",
   "metadata": {},
   "source": [
    "# Imports"
   ]
  },
  {
   "cell_type": "code",
   "execution_count": 2,
   "metadata": {
    "ExecuteTime": {
     "end_time": "2020-04-22T07:25:16.429917Z",
     "start_time": "2020-04-22T07:25:15.568198Z"
    }
   },
   "outputs": [],
   "source": [
    "import random\n",
    "import math\n",
    "import time\n",
    "import matplotlib.pyplot as plt\n",
    "import pandas as pd\n",
    "import numpy as np\n",
    "from scipy import special\n",
    "\n",
    "import torch \n",
    "import torch.utils.data as data\n",
    "import torch.nn as nn\n",
    "import torch.nn.functional as F\n",
    "import torch.optim as optim\n",
    "\n",
    "from torchvision import transforms\n",
    "from torchsummary import summary"
   ]
  },
  {
   "cell_type": "code",
   "execution_count": 3,
   "metadata": {
    "ExecuteTime": {
     "end_time": "2020-04-22T07:25:16.463152Z",
     "start_time": "2020-04-22T07:25:16.431582Z"
    }
   },
   "outputs": [
    {
     "name": "stdout",
     "output_type": "stream",
     "text": [
      "device :  cuda\n",
      "num gpu :  4\n"
     ]
    }
   ],
   "source": [
    "import os\n",
    "os.environ[\"CUDA_VISIBLE_DEVICES\"]=\"0,1,2,3\"\n",
    "device = 'cuda' if torch.cuda.is_available() else 'cpu'\n",
    "# device = torch.device('cuda') \n",
    "print('device : ', device)\n",
    "print('num gpu : ', torch.cuda.device_count())"
   ]
  },
  {
   "cell_type": "code",
   "execution_count": 4,
   "metadata": {
    "ExecuteTime": {
     "end_time": "2020-04-22T07:25:16.488161Z",
     "start_time": "2020-04-22T07:25:16.464894Z"
    }
   },
   "outputs": [],
   "source": [
    "# torch.manual_seed(1234)\n",
    "# np.random.seed(1234)\n",
    "# random.seed(1234)"
   ]
  },
  {
   "cell_type": "markdown",
   "metadata": {},
   "source": [
    "# Generate Data"
   ]
  },
  {
   "cell_type": "code",
   "execution_count": 5,
   "metadata": {
    "ExecuteTime": {
     "end_time": "2020-04-22T07:25:18.178915Z",
     "start_time": "2020-04-22T07:25:18.165498Z"
    }
   },
   "outputs": [],
   "source": [
    "class StepDataset(data.Dataset):\n",
    "    \n",
    "    def __init__(self, upper=3, lower=-3, length=100, error_range=0.1, ymax=1., x_var=None, y_var=None):\n",
    "        self.upper = upper\n",
    "        self.lower = lower\n",
    "        self.length = length\n",
    "        self.error_range = error_range\n",
    "        self.y_var = y_var\n",
    "        if self.y_var != None:\n",
    "            self.noise = np.array([np.random.normal(0,self.y_var) for i in range(self.length)]).reshape(-1,1).astype(np.float32)\n",
    "        else:\n",
    "            self.noise = np.array([2 * self.error_range * np. random.rand() - self.error_range for i in range(self.length)]).reshape(-1,1).astype(np.float32)\n",
    "            self.y_var = (2*self.error_range)**2/12\n",
    "        \n",
    "        if x_var != None:\n",
    "            self.input = np.array([[(self.upper - self.lower) * np. random.rand() + self.lower, x_var] for i in range(self.length)]).astype(np.float32)\n",
    "            self.output = np.array([[x.item()*ymax,self.y_var] for x in (self.input[:,0]>0)]).astype(np.float32)\n",
    "            self.output[:,0] += self.noise.reshape(-1)\n",
    "        else:\n",
    "            self.input = np.array([(self.upper - self.lower) * np. random.rand() + self.lower for i in range(self.length)]).reshape(-1,1).astype(np.float32)\n",
    "            self.output = (ymax * (self.input > 0) + self.noise).astype(np.float32)\n",
    "\n",
    "    def __len__(self):\n",
    "        return self.length\n",
    "    \n",
    "    def __getitem__(self, index):\n",
    "        x = self.input[index]\n",
    "        y = self.output[index]\n",
    "        \n",
    "        return x, y"
   ]
  },
  {
   "cell_type": "code",
   "execution_count": 7,
   "metadata": {
    "ExecuteTime": {
     "end_time": "2020-04-22T07:25:24.496173Z",
     "start_time": "2020-04-22T07:25:24.488089Z"
    }
   },
   "outputs": [
    {
     "data": {
      "text/plain": [
       "torch.Size([100, 1])"
      ]
     },
     "execution_count": 7,
     "metadata": {},
     "output_type": "execute_result"
    }
   ],
   "source": [
    "dataset = StepDataset(ymax=4.)\n",
    "dataloader = torch.utils.data.DataLoader(dataset,batch_size=100,shuffle=True)\n",
    "x, y = next(iter(dataloader))\n",
    "x.shape"
   ]
  },
  {
   "cell_type": "code",
   "execution_count": 6,
   "metadata": {
    "ExecuteTime": {
     "end_time": "2020-04-22T04:37:29.614555Z",
     "start_time": "2020-04-22T04:37:29.438284Z"
    }
   },
   "outputs": [
    {
     "data": {
      "image/png": "[encoded data removed]",
      "text/plain": [
       "<Figure size 432x288 with 1 Axes>"
      ]
     },
     "metadata": {
      "needs_background": "light"
     },
     "output_type": "display_data"
    }
   ],
   "source": [
    "dataset = StepDataset(ymax=4., x_var=0.25)\n",
    "dataloader = torch.utils.data.DataLoader(dataset,batch_size=100,shuffle=True)\n",
    "x, y = next(iter(dataloader))\n",
    "x = x[:,0]\n",
    "y = y[:,0]\n",
    "\n",
    "\n",
    "plt.scatter(x, y)\n",
    "plt.xlim(-3, 3)\n",
    "plt.ylim(-0.5, 5.5)\n",
    "plt.grid()\n",
    "plt.show()"
   ]
  },
  {
   "cell_type": "markdown",
   "metadata": {},
   "source": [
    "# Basic Regression Model"
   ]
  },
  {
   "cell_type": "markdown",
   "metadata": {},
   "source": [
    "## Modeling"
   ]
  },
  {
   "cell_type": "code",
   "execution_count": 8,
   "metadata": {
    "ExecuteTime": {
     "end_time": "2020-04-22T07:28:21.799175Z",
     "start_time": "2020-04-22T07:28:21.789045Z"
    }
   },
   "outputs": [],
   "source": [
    "class BasicRegressor(nn.Module):\n",
    "    \n",
    "    def __init__(self):\n",
    "        super(BasicRegressor, self).__init__()\n",
    "        self.layer1 = nn.Linear(1, 200)\n",
    "        self.layer2 = nn.Linear(200, 200)\n",
    "        self.last = nn.Linear(200, 1)\n",
    "        self.dropout = nn.Dropout(p=0.01)\n",
    "        \n",
    "    def forward(self, x):\n",
    "        out = self.layer1(x)\n",
    "        out = F.relu(out)\n",
    "        out = self.dropout(out)\n",
    "        out = self.layer2(out)\n",
    "        out = F.relu(out)\n",
    "        out = self.dropout(out)\n",
    "        out = self.last(out)\n",
    "        \n",
    "        return out"
   ]
  },
  {
   "cell_type": "code",
   "execution_count": 9,
   "metadata": {
    "ExecuteTime": {
     "end_time": "2020-04-22T07:28:25.509945Z",
     "start_time": "2020-04-22T07:28:22.537847Z"
    }
   },
   "outputs": [
    {
     "name": "stdout",
     "output_type": "stream",
     "text": [
      "BasicRegressor(\n",
      "  (layer1): Linear(in_features=1, out_features=200, bias=True)\n",
      "  (layer2): Linear(in_features=200, out_features=200, bias=True)\n",
      "  (last): Linear(in_features=200, out_features=1, bias=True)\n",
      "  (dropout): Dropout(p=0.01, inplace=False)\n",
      ")\n",
      "----------------------------------------------------------------\n",
      "        Layer (type)               Output Shape         Param #\n",
      "================================================================\n",
      "            Linear-1                  [-1, 200]             400\n",
      "           Dropout-2                  [-1, 200]               0\n",
      "            Linear-3                  [-1, 200]          40,200\n",
      "           Dropout-4                  [-1, 200]               0\n",
      "            Linear-5                    [-1, 1]             201\n",
      "================================================================\n",
      "Total params: 40,801\n",
      "Trainable params: 40,801\n",
      "Non-trainable params: 0\n",
      "----------------------------------------------------------------\n",
      "Input size (MB): 0.00\n",
      "Forward/backward pass size (MB): 0.01\n",
      "Params size (MB): 0.16\n",
      "Estimated Total Size (MB): 0.16\n",
      "----------------------------------------------------------------\n"
     ]
    }
   ],
   "source": [
    "net = BasicRegressor().to(device)\n",
    "print(net)\n",
    "summary(net,(1,))"
   ]
  },
  {
   "cell_type": "code",
   "execution_count": 10,
   "metadata": {
    "ExecuteTime": {
     "end_time": "2020-04-22T07:28:30.779399Z",
     "start_time": "2020-04-22T07:28:30.760480Z"
    }
   },
   "outputs": [
    {
     "data": {
      "text/plain": [
       "tensor([[-0.2203]], grad_fn=<AddmmBackward>)"
      ]
     },
     "execution_count": 10,
     "metadata": {},
     "output_type": "execute_result"
    }
   ],
   "source": [
    "net = BasicRegressor()\n",
    "net(torch.tensor([[0.]]))"
   ]
  },
  {
   "cell_type": "markdown",
   "metadata": {},
   "source": [
    "## Train"
   ]
  },
  {
   "cell_type": "markdown",
   "metadata": {},
   "source": [
    "### Mean Model"
   ]
  },
  {
   "cell_type": "code",
   "execution_count": 88,
   "metadata": {
    "ExecuteTime": {
     "end_time": "2020-04-22T08:17:22.029337Z",
     "start_time": "2020-04-22T08:17:22.021274Z"
    }
   },
   "outputs": [],
   "source": [
    "def train(model, dataloader, num_epochs):   \n",
    "    model = nn.DataParallel(model)\n",
    "    model.to(device)\n",
    "    model.train()\n",
    "    \n",
    "    optimizer = torch.optim.Adam(model.parameters())\n",
    "    criterion = nn.MSELoss()\n",
    "    \n",
    "    for epoch in range(num_epochs):      \n",
    "        t_epoch_start = time.time()\n",
    "        epoch_loss = 0.0\n",
    "        \n",
    "        print('-------------')\n",
    "        print('Epoch {}/{}'.format(epoch+1, num_epochs))\n",
    "        print('-------------')\n",
    "        \n",
    "        for data in dataloader:       \n",
    "            batch_size = len(data[0])\n",
    "            x = data[0].to(device)\n",
    "            y = data[1].to(device)\n",
    "            out = model(x)\n",
    "            \n",
    "            loss = criterion(out, y)\n",
    "            optimizer.zero_grad()\n",
    "            loss.backward()\n",
    "            optimizer.step()\n",
    "            \n",
    "            epoch_loss += loss.item()\n",
    "            \n",
    "        t_epoch_finish = time.time()\n",
    "        print('-------------')\n",
    "        print('epoch {} || Loss:{:.4f} '.format(epoch, epoch_loss/batch_size))\n",
    "        print('timer:  {:.4f} sec.'.format(t_epoch_finish - t_epoch_start))\n",
    "        \n",
    "    model.eval()        \n",
    "    return model"
   ]
  },
  {
   "cell_type": "code",
   "execution_count": 86,
   "metadata": {
    "ExecuteTime": {
     "end_time": "2020-04-22T08:16:53.847580Z",
     "start_time": "2020-04-22T08:16:47.725683Z"
    },
    "scrolled": true
   },
   "outputs": [
    {
     "name": "stdout",
     "output_type": "stream",
     "text": [
      "-------------\n",
      "Epoch 1/100\n",
      "-------------\n",
      "-------------\n",
      "epoch 0 || Loss:10.6790 \n",
      "timer:  0.1228 sec.\n",
      "-------------\n",
      "Epoch 2/100\n",
      "-------------\n",
      "-------------\n",
      "epoch 1 || Loss:2.7295 \n",
      "timer:  0.0771 sec.\n",
      "-------------\n",
      "Epoch 3/100\n",
      "-------------\n",
      "-------------\n",
      "epoch 2 || Loss:3.2504 \n",
      "timer:  0.0609 sec.\n",
      "-------------\n",
      "Epoch 4/100\n",
      "-------------\n",
      "-------------\n",
      "epoch 3 || Loss:2.2642 \n",
      "timer:  0.0678 sec.\n",
      "-------------\n",
      "Epoch 5/100\n",
      "-------------\n",
      "-------------\n",
      "epoch 4 || Loss:1.8674 \n",
      "timer:  0.0405 sec.\n",
      "-------------\n",
      "Epoch 6/100\n",
      "-------------\n",
      "-------------\n",
      "epoch 5 || Loss:1.6885 \n",
      "timer:  0.0506 sec.\n",
      "-------------\n",
      "Epoch 7/100\n",
      "-------------\n",
      "-------------\n",
      "epoch 6 || Loss:1.1545 \n",
      "timer:  0.0598 sec.\n",
      "-------------\n",
      "Epoch 8/100\n",
      "-------------\n",
      "-------------\n",
      "epoch 7 || Loss:1.0192 \n",
      "timer:  0.0460 sec.\n",
      "-------------\n",
      "Epoch 9/100\n",
      "-------------\n",
      "-------------\n",
      "epoch 8 || Loss:0.8384 \n",
      "timer:  0.0510 sec.\n",
      "-------------\n",
      "Epoch 10/100\n",
      "-------------\n",
      "-------------\n",
      "epoch 9 || Loss:0.7126 \n",
      "timer:  0.0585 sec.\n",
      "-------------\n",
      "Epoch 11/100\n",
      "-------------\n",
      "-------------\n",
      "epoch 10 || Loss:0.6398 \n",
      "timer:  0.0528 sec.\n",
      "-------------\n",
      "Epoch 12/100\n",
      "-------------\n",
      "-------------\n",
      "epoch 11 || Loss:0.5478 \n",
      "timer:  0.0530 sec.\n",
      "-------------\n",
      "Epoch 13/100\n",
      "-------------\n",
      "-------------\n",
      "epoch 12 || Loss:0.5466 \n",
      "timer:  0.0909 sec.\n",
      "-------------\n",
      "Epoch 14/100\n",
      "-------------\n",
      "-------------\n",
      "epoch 13 || Loss:0.6745 \n",
      "timer:  0.0520 sec.\n",
      "-------------\n",
      "Epoch 15/100\n",
      "-------------\n",
      "-------------\n",
      "epoch 14 || Loss:0.4790 \n",
      "timer:  0.0461 sec.\n",
      "-------------\n",
      "Epoch 16/100\n",
      "-------------\n",
      "-------------\n",
      "epoch 15 || Loss:0.4890 \n",
      "timer:  0.0537 sec.\n",
      "-------------\n",
      "Epoch 17/100\n",
      "-------------\n",
      "-------------\n",
      "epoch 16 || Loss:0.4540 \n",
      "timer:  0.0440 sec.\n",
      "-------------\n",
      "Epoch 18/100\n",
      "-------------\n",
      "-------------\n",
      "epoch 17 || Loss:0.6009 \n",
      "timer:  0.0567 sec.\n",
      "-------------\n",
      "Epoch 19/100\n",
      "-------------\n",
      "-------------\n",
      "epoch 18 || Loss:0.4919 \n",
      "timer:  0.0507 sec.\n",
      "-------------\n",
      "Epoch 20/100\n",
      "-------------\n",
      "-------------\n",
      "epoch 19 || Loss:0.4734 \n",
      "timer:  0.0551 sec.\n",
      "-------------\n",
      "Epoch 21/100\n",
      "-------------\n",
      "-------------\n",
      "epoch 20 || Loss:0.4290 \n",
      "timer:  0.0498 sec.\n",
      "-------------\n",
      "Epoch 22/100\n",
      "-------------\n",
      "-------------\n",
      "epoch 21 || Loss:0.3730 \n",
      "timer:  0.0518 sec.\n",
      "-------------\n",
      "Epoch 23/100\n",
      "-------------\n",
      "-------------\n",
      "epoch 22 || Loss:0.3702 \n",
      "timer:  0.0533 sec.\n",
      "-------------\n",
      "Epoch 24/100\n",
      "-------------\n",
      "-------------\n",
      "epoch 23 || Loss:0.3204 \n",
      "timer:  0.0542 sec.\n",
      "-------------\n",
      "Epoch 25/100\n",
      "-------------\n",
      "-------------\n",
      "epoch 24 || Loss:0.3201 \n",
      "timer:  0.0566 sec.\n",
      "-------------\n",
      "Epoch 26/100\n",
      "-------------\n",
      "-------------\n",
      "epoch 25 || Loss:0.3255 \n",
      "timer:  0.0840 sec.\n",
      "-------------\n",
      "Epoch 27/100\n",
      "-------------\n",
      "-------------\n",
      "epoch 26 || Loss:0.3161 \n",
      "timer:  0.0667 sec.\n",
      "-------------\n",
      "Epoch 28/100\n",
      "-------------\n",
      "-------------\n",
      "epoch 27 || Loss:0.2794 \n",
      "timer:  0.0800 sec.\n",
      "-------------\n",
      "Epoch 29/100\n",
      "-------------\n",
      "-------------\n",
      "epoch 28 || Loss:0.2802 \n",
      "timer:  0.0422 sec.\n",
      "-------------\n",
      "Epoch 30/100\n",
      "-------------\n",
      "-------------\n",
      "epoch 29 || Loss:0.2811 \n",
      "timer:  0.0491 sec.\n",
      "-------------\n",
      "Epoch 31/100\n",
      "-------------\n",
      "-------------\n",
      "epoch 30 || Loss:0.2802 \n",
      "timer:  0.0673 sec.\n",
      "-------------\n",
      "Epoch 32/100\n",
      "-------------\n",
      "-------------\n",
      "epoch 31 || Loss:0.3276 \n",
      "timer:  0.0523 sec.\n",
      "-------------\n",
      "Epoch 33/100\n",
      "-------------\n",
      "-------------\n",
      "epoch 32 || Loss:0.2507 \n",
      "timer:  0.0552 sec.\n",
      "-------------\n",
      "Epoch 34/100\n",
      "-------------\n",
      "-------------\n",
      "epoch 33 || Loss:0.2750 \n",
      "timer:  0.0555 sec.\n",
      "-------------\n",
      "Epoch 35/100\n",
      "-------------\n",
      "-------------\n",
      "epoch 34 || Loss:0.2567 \n",
      "timer:  0.0558 sec.\n",
      "-------------\n",
      "Epoch 36/100\n",
      "-------------\n",
      "-------------\n",
      "epoch 35 || Loss:0.2099 \n",
      "timer:  0.0739 sec.\n",
      "-------------\n",
      "Epoch 37/100\n",
      "-------------\n",
      "-------------\n",
      "epoch 36 || Loss:0.2094 \n",
      "timer:  0.0676 sec.\n",
      "-------------\n",
      "Epoch 38/100\n",
      "-------------\n",
      "-------------\n",
      "epoch 37 || Loss:0.1714 \n",
      "timer:  0.0587 sec.\n",
      "-------------\n",
      "Epoch 39/100\n",
      "-------------\n",
      "-------------\n",
      "epoch 38 || Loss:0.2045 \n",
      "timer:  0.0531 sec.\n",
      "-------------\n",
      "Epoch 40/100\n",
      "-------------\n",
      "-------------\n",
      "epoch 39 || Loss:0.2166 \n",
      "timer:  0.0634 sec.\n",
      "-------------\n",
      "Epoch 41/100\n",
      "-------------\n",
      "-------------\n",
      "epoch 40 || Loss:0.2020 \n",
      "timer:  0.0505 sec.\n",
      "-------------\n",
      "Epoch 42/100\n",
      "-------------\n",
      "-------------\n",
      "epoch 41 || Loss:0.1717 \n",
      "timer:  0.0606 sec.\n",
      "-------------\n",
      "Epoch 43/100\n",
      "-------------\n",
      "-------------\n",
      "epoch 42 || Loss:0.1745 \n",
      "timer:  0.0588 sec.\n",
      "-------------\n",
      "Epoch 44/100\n",
      "-------------\n",
      "-------------\n",
      "epoch 43 || Loss:0.2063 \n",
      "timer:  0.0729 sec.\n",
      "-------------\n",
      "Epoch 45/100\n",
      "-------------\n",
      "-------------\n",
      "epoch 44 || Loss:0.2325 \n",
      "timer:  0.0484 sec.\n",
      "-------------\n",
      "Epoch 46/100\n",
      "-------------\n",
      "-------------\n",
      "epoch 45 || Loss:0.2537 \n",
      "timer:  0.0603 sec.\n",
      "-------------\n",
      "Epoch 47/100\n",
      "-------------\n",
      "-------------\n",
      "epoch 46 || Loss:0.1995 \n",
      "timer:  0.0543 sec.\n",
      "-------------\n",
      "Epoch 48/100\n",
      "-------------\n",
      "-------------\n",
      "epoch 47 || Loss:0.1437 \n",
      "timer:  0.0760 sec.\n",
      "-------------\n",
      "Epoch 49/100\n",
      "-------------\n",
      "-------------\n",
      "epoch 48 || Loss:0.1875 \n",
      "timer:  0.0864 sec.\n",
      "-------------\n",
      "Epoch 50/100\n",
      "-------------\n",
      "-------------\n",
      "epoch 49 || Loss:0.2229 \n",
      "timer:  0.0533 sec.\n",
      "-------------\n",
      "Epoch 51/100\n",
      "-------------\n",
      "-------------\n",
      "epoch 50 || Loss:0.1469 \n",
      "timer:  0.0703 sec.\n",
      "-------------\n",
      "Epoch 52/100\n",
      "-------------\n",
      "-------------\n",
      "epoch 51 || Loss:0.1578 \n",
      "timer:  0.0501 sec.\n",
      "-------------\n",
      "Epoch 53/100\n",
      "-------------\n",
      "-------------\n",
      "epoch 52 || Loss:0.1627 \n",
      "timer:  0.0648 sec.\n",
      "-------------\n",
      "Epoch 54/100\n",
      "-------------\n",
      "-------------\n",
      "epoch 53 || Loss:0.1826 \n",
      "timer:  0.0622 sec.\n",
      "-------------\n",
      "Epoch 55/100\n",
      "-------------\n",
      "-------------\n",
      "epoch 54 || Loss:0.1509 \n",
      "timer:  0.0500 sec.\n",
      "-------------\n",
      "Epoch 56/100\n",
      "-------------\n",
      "-------------\n",
      "epoch 55 || Loss:0.1515 \n",
      "timer:  0.0626 sec.\n",
      "-------------\n",
      "Epoch 57/100\n",
      "-------------\n",
      "-------------\n",
      "epoch 56 || Loss:0.1292 \n",
      "timer:  0.0506 sec.\n",
      "-------------\n",
      "Epoch 58/100\n",
      "-------------\n",
      "-------------\n",
      "epoch 57 || Loss:0.1185 \n",
      "timer:  0.0603 sec.\n",
      "-------------\n",
      "Epoch 59/100\n",
      "-------------\n",
      "-------------\n",
      "epoch 58 || Loss:0.1291 \n",
      "timer:  0.0558 sec.\n",
      "-------------\n",
      "Epoch 60/100\n",
      "-------------\n",
      "-------------\n",
      "epoch 59 || Loss:0.1038 \n",
      "timer:  0.0630 sec.\n",
      "-------------\n",
      "Epoch 61/100\n",
      "-------------\n",
      "-------------\n",
      "epoch 60 || Loss:0.1061 \n",
      "timer:  0.0605 sec.\n",
      "-------------\n",
      "Epoch 62/100\n",
      "-------------\n",
      "-------------\n",
      "epoch 61 || Loss:0.1231 \n",
      "timer:  0.0670 sec.\n",
      "-------------\n",
      "Epoch 63/100\n",
      "-------------\n",
      "-------------\n",
      "epoch 62 || Loss:0.0908 \n",
      "timer:  0.0690 sec.\n",
      "-------------\n",
      "Epoch 64/100\n",
      "-------------\n",
      "-------------\n",
      "epoch 63 || Loss:0.1084 \n",
      "timer:  0.0523 sec.\n",
      "-------------\n",
      "Epoch 65/100\n",
      "-------------\n",
      "-------------\n",
      "epoch 64 || Loss:0.1079 \n",
      "timer:  0.0539 sec.\n",
      "-------------\n",
      "Epoch 66/100\n",
      "-------------\n",
      "-------------\n",
      "epoch 65 || Loss:0.1055 \n",
      "timer:  0.1082 sec.\n",
      "-------------\n",
      "Epoch 67/100\n",
      "-------------\n",
      "-------------\n",
      "epoch 66 || Loss:0.1022 \n",
      "timer:  0.0688 sec.\n",
      "-------------\n",
      "Epoch 68/100\n",
      "-------------\n",
      "-------------\n",
      "epoch 67 || Loss:0.1015 \n",
      "timer:  0.0551 sec.\n",
      "-------------\n",
      "Epoch 69/100\n",
      "-------------\n",
      "-------------\n",
      "epoch 68 || Loss:0.1028 \n",
      "timer:  0.0494 sec.\n",
      "-------------\n",
      "Epoch 70/100\n",
      "-------------\n",
      "-------------\n",
      "epoch 69 || Loss:0.0998 \n",
      "timer:  0.0557 sec.\n",
      "-------------\n",
      "Epoch 71/100\n",
      "-------------\n",
      "-------------\n",
      "epoch 70 || Loss:0.1238 \n",
      "timer:  0.0564 sec.\n",
      "-------------\n",
      "Epoch 72/100\n",
      "-------------\n",
      "-------------\n",
      "epoch 71 || Loss:0.0941 \n",
      "timer:  0.0565 sec.\n",
      "-------------\n",
      "Epoch 73/100\n",
      "-------------\n",
      "-------------\n",
      "epoch 72 || Loss:0.1278 \n",
      "timer:  0.0872 sec.\n",
      "-------------\n",
      "Epoch 74/100\n",
      "-------------\n",
      "-------------\n",
      "epoch 73 || Loss:0.0876 \n",
      "timer:  0.0504 sec.\n",
      "-------------\n",
      "Epoch 75/100\n",
      "-------------\n",
      "-------------\n",
      "epoch 74 || Loss:0.0747 \n",
      "timer:  0.0504 sec.\n",
      "-------------\n",
      "Epoch 76/100\n",
      "-------------\n",
      "-------------\n",
      "epoch 75 || Loss:0.0988 \n",
      "timer:  0.0568 sec.\n",
      "-------------\n",
      "Epoch 77/100\n",
      "-------------\n",
      "-------------\n",
      "epoch 76 || Loss:0.0918 \n",
      "timer:  0.0567 sec.\n",
      "-------------\n",
      "Epoch 78/100\n",
      "-------------\n",
      "-------------\n",
      "epoch 77 || Loss:0.0985 \n",
      "timer:  0.0558 sec.\n",
      "-------------\n",
      "Epoch 79/100\n",
      "-------------\n",
      "-------------\n",
      "epoch 78 || Loss:0.0777 \n",
      "timer:  0.0535 sec.\n",
      "-------------\n",
      "Epoch 80/100\n",
      "-------------\n",
      "-------------\n",
      "epoch 79 || Loss:0.0886 \n",
      "timer:  0.0575 sec.\n",
      "-------------\n",
      "Epoch 81/100\n",
      "-------------\n",
      "-------------\n",
      "epoch 80 || Loss:0.0774 \n",
      "timer:  0.0522 sec.\n",
      "-------------\n",
      "Epoch 82/100\n",
      "-------------\n",
      "-------------\n",
      "epoch 81 || Loss:0.0798 \n",
      "timer:  0.0596 sec.\n",
      "-------------\n",
      "Epoch 83/100\n",
      "-------------\n",
      "-------------\n",
      "epoch 82 || Loss:0.0808 \n",
      "timer:  0.0618 sec.\n",
      "-------------\n",
      "Epoch 84/100\n",
      "-------------\n"
     ]
    },
    {
     "name": "stdout",
     "output_type": "stream",
     "text": [
      "-------------\n",
      "epoch 83 || Loss:0.0900 \n",
      "timer:  0.0654 sec.\n",
      "-------------\n",
      "Epoch 85/100\n",
      "-------------\n",
      "-------------\n",
      "epoch 84 || Loss:0.0796 \n",
      "timer:  0.0724 sec.\n",
      "-------------\n",
      "Epoch 86/100\n",
      "-------------\n",
      "-------------\n",
      "epoch 85 || Loss:0.0800 \n",
      "timer:  0.0635 sec.\n",
      "-------------\n",
      "Epoch 87/100\n",
      "-------------\n",
      "-------------\n",
      "epoch 86 || Loss:0.0938 \n",
      "timer:  0.0417 sec.\n",
      "-------------\n",
      "Epoch 88/100\n",
      "-------------\n",
      "-------------\n",
      "epoch 87 || Loss:0.0931 \n",
      "timer:  0.0756 sec.\n",
      "-------------\n",
      "Epoch 89/100\n",
      "-------------\n",
      "-------------\n",
      "epoch 88 || Loss:0.1248 \n",
      "timer:  0.0579 sec.\n",
      "-------------\n",
      "Epoch 90/100\n",
      "-------------\n",
      "-------------\n",
      "epoch 89 || Loss:0.0963 \n",
      "timer:  0.0479 sec.\n",
      "-------------\n",
      "Epoch 91/100\n",
      "-------------\n",
      "-------------\n",
      "epoch 90 || Loss:0.0833 \n",
      "timer:  0.0591 sec.\n",
      "-------------\n",
      "Epoch 92/100\n",
      "-------------\n",
      "-------------\n",
      "epoch 91 || Loss:0.0703 \n",
      "timer:  0.0529 sec.\n",
      "-------------\n",
      "Epoch 93/100\n",
      "-------------\n",
      "-------------\n",
      "epoch 92 || Loss:0.0672 \n",
      "timer:  0.0530 sec.\n",
      "-------------\n",
      "Epoch 94/100\n",
      "-------------\n",
      "-------------\n",
      "epoch 93 || Loss:0.0682 \n",
      "timer:  0.0546 sec.\n",
      "-------------\n",
      "Epoch 95/100\n",
      "-------------\n",
      "-------------\n",
      "epoch 94 || Loss:0.0493 \n",
      "timer:  0.0710 sec.\n",
      "-------------\n",
      "Epoch 96/100\n",
      "-------------\n",
      "-------------\n",
      "epoch 95 || Loss:0.0753 \n",
      "timer:  0.0628 sec.\n",
      "-------------\n",
      "Epoch 97/100\n",
      "-------------\n",
      "-------------\n",
      "epoch 96 || Loss:0.0600 \n",
      "timer:  0.0668 sec.\n",
      "-------------\n",
      "Epoch 98/100\n",
      "-------------\n",
      "-------------\n",
      "epoch 97 || Loss:0.0596 \n",
      "timer:  0.0682 sec.\n",
      "-------------\n",
      "Epoch 99/100\n",
      "-------------\n",
      "-------------\n",
      "epoch 98 || Loss:0.0836 \n",
      "timer:  0.0613 sec.\n",
      "-------------\n",
      "Epoch 100/100\n",
      "-------------\n",
      "-------------\n",
      "epoch 99 || Loss:0.1090 \n",
      "timer:  0.1248 sec.\n"
     ]
    }
   ],
   "source": [
    "dataset = StepDataset(3,-3,100,0.1,ymax=4.)\n",
    "dataloader = torch.utils.data.DataLoader(dataset,batch_size=16,shuffle=True)\n",
    "\n",
    "model_mean = BasicRegressor()\n",
    "\n",
    "model_mean = train(model_mean, dataloader, 100)"
   ]
  },
  {
   "cell_type": "markdown",
   "metadata": {},
   "source": [
    "### Error Model"
   ]
  },
  {
   "cell_type": "code",
   "execution_count": null,
   "metadata": {},
   "outputs": [],
   "source": []
  },
  {
   "cell_type": "markdown",
   "metadata": {},
   "source": [
    "## Validation"
   ]
  },
  {
   "cell_type": "code",
   "execution_count": 114,
   "metadata": {
    "ExecuteTime": {
     "end_time": "2020-04-22T08:25:06.491255Z",
     "start_time": "2020-04-22T08:25:06.282003Z"
    }
   },
   "outputs": [
    {
     "data": {
      "image/png": "[encoded data removed]",
      "text/plain": [
       "<Figure size 432x288 with 1 Axes>"
      ]
     },
     "metadata": {
      "needs_background": "light"
     },
     "output_type": "display_data"
    }
   ],
   "source": [
    "length = 100\n",
    "start = -3\n",
    "end = 3\n",
    "waith = end - start\n",
    "val_x = torch.tensor([[i] for i in np.arange(start,end,waith/length)])\n",
    "val_y = (val_x>0)*4\n",
    "pred_y = model_mean(val_x).detach().cpu()\n",
    "\n",
    "\n",
    "fig = plt.figure()\n",
    "ax = fig.add_subplot(1,1,1)\n",
    "ax.plot(val_x, pred_y, label=\"predict\")\n",
    "ax.plot(val_x, val_y, label=\"true\",c=\"red\")\n",
    "ax.grid()\n",
    "ax.legend(loc='upper left')\n",
    "plt.xlim(-3, 3)\n",
    "plt.ylim(-0.5, 4.5)\n",
    "fig.show()"
   ]
  },
  {
   "cell_type": "markdown",
   "metadata": {},
   "source": [
    "# Stochastic Reression"
   ]
  },
  {
   "cell_type": "markdown",
   "metadata": {},
   "source": [
    "## Modeling"
   ]
  },
  {
   "cell_type": "markdown",
   "metadata": {},
   "source": [
    "### Modified ReLU"
   ]
  },
  {
   "cell_type": "code",
   "execution_count": 38,
   "metadata": {
    "ExecuteTime": {
     "end_time": "2020-04-22T07:49:46.960923Z",
     "start_time": "2020-04-22T07:49:46.950386Z"
    }
   },
   "outputs": [],
   "source": [
    "def ReLUGauss(mu_in, var_in, epsilon=1.0e-6, cut_sd=4.0):\n",
    "    mu_out = torch.zeros(mu_in.shape[0], mu_in.shape[1])\n",
    "    var_out = torch.zeros(var_in.shape[0], var_in.shape[1])\n",
    "    mu = mu_in\n",
    "    var = var_in\n",
    "    sigma = torch.sqrt(var+1e-16)\n",
    "\n",
    "    if (var < 0).any().item(): raise Exception(f\"ERROR in ReLUGauss: 'var_in' should be all positive value, but it has negative value.\")\n",
    "    idx_SmallSigma = (sigma < epsilon)\n",
    "    if cut_sd != None:\n",
    "        idx_LargeMu = (mu > cut_sd*sigma)\n",
    "        idx_SmallMU = (mu < -cut_sd*sigma)\n",
    "\n",
    "    sqrt2 = math.sqrt(2.0)\n",
    "    sqrt2pi = math.sqrt(2.0*math.pi)    \n",
    "    z = mu / (sqrt2*sigma+1e-16)\n",
    "    E = torch.erf(z)\n",
    "    X = torch.exp(-z*z)\n",
    "    mu_out = sigma/sqrt2pi*X + mu/2.0*(1.0+E)\n",
    "    var_out = (1.0+E)/4.0*(mu*mu*(1.0-E)+2.0*var) - sigma*X/sqrt2pi*(sigma*X/sqrt2pi+mu*E)\n",
    "    \n",
    "    idx_SmallVarOut = (var_out<0.0)*(var_out>-epsilon)\n",
    "    isError = ((var_out<0.0)*(var_out<=-epsilon)).any().item()\n",
    "    if isError:\n",
    "        msg= f'ERROR in ReLUGauss: (mu: {mu}\\n, sigma: {sigma}\\n, mu_out: {mu_out}\\n, var_out: {var_out}\\n)'\n",
    "        print(msg)\n",
    "        raise Exception(msg)\n",
    "\n",
    "\n",
    "    mu_out = mu_out*~idx_SmallSigma + idx_SmallSigma*torch.relu(mu)\n",
    "    var_out *= ~idx_SmallSigma\n",
    "    if cut_sd != None:\n",
    "        mu_out = mu_out*~(idx_LargeMu*~idx_SmallSigma) + (idx_LargeMu*~idx_SmallSigma)*mu\n",
    "        var_out = var_out*~(idx_LargeMu*~idx_SmallSigma) + (idx_LargeMu*~idx_SmallSigma)*var\n",
    "        mu_out = mu_out*~(idx_SmallMU*~(idx_LargeMu|idx_SmallSigma))\n",
    "        var_out = var_out*~(idx_SmallMU*~(idx_LargeMu|idx_SmallSigma))\n",
    "        var_out = var_out*~(idx_SmallVarOut*~((idx_LargeMu|idx_SmallSigma)|idx_SmallMU))\n",
    "    else:\n",
    "        var_out = var_out*~(idx_SmallVarOut*~idx_SmallSigma)\n",
    "            \n",
    "    var_out = torch.diag_embed(var_out)\n",
    "    \n",
    "    return mu_out, var_out"
   ]
  },
  {
   "cell_type": "code",
   "execution_count": 39,
   "metadata": {
    "ExecuteTime": {
     "end_time": "2020-04-22T07:49:51.617636Z",
     "start_time": "2020-04-22T07:49:51.451597Z"
    }
   },
   "outputs": [
    {
     "name": "stderr",
     "output_type": "stream",
     "text": [
      "/home/yashima/anaconda3/lib/python3.7/site-packages/ipykernel_launcher.py:12: MatplotlibDeprecationWarning: Support for passing a (n, 1)-shaped error array to errorbar() is deprecated since Matplotlib 3.1 and will be removed in 3.3; pass a 1D array instead.\n",
      "  if sys.path[0] == '':\n"
     ]
    },
    {
     "data": {
      "image/png": "[encoded data removed]",
      "text/plain": [
       "<Figure size 432x288 with 1 Axes>"
      ]
     },
     "metadata": {
      "needs_background": "light"
     },
     "output_type": "display_data"
    }
   ],
   "source": [
    "length = 100\n",
    "start = -5\n",
    "end = 5\n",
    "waith = end - start\n",
    "x = torch.arange(start, end, waith/length).view(-1, 1)\n",
    "in_var = torch.ones(length, 1)\n",
    "y, out_var = ReLUGauss(x, in_var)\n",
    "out_var = out_var.reshape(-1, 1)\n",
    "\n",
    "fig = plt.figure()\n",
    "ax = fig.add_subplot(1,1,1)\n",
    "ax.errorbar(x, y, torch.sqrt(out_var), label=\"E[ReLU] +/- sd[ReLU]\")\n",
    "ax.plot(x, torch.relu(x), label=\"ReLU\")\n",
    "ax.grid()\n",
    "ax.legend(loc='upper left')\n",
    "plt.xlim(start, end)\n",
    "plt.ylim(-0.5, end+0.5)\n",
    "fig.show()"
   ]
  },
  {
   "cell_type": "markdown",
   "metadata": {},
   "source": [
    "### Custom DropOut"
   ]
  },
  {
   "cell_type": "code",
   "execution_count": 40,
   "metadata": {
    "ExecuteTime": {
     "end_time": "2020-04-22T07:49:54.999552Z",
     "start_time": "2020-04-22T07:49:54.991172Z"
    }
   },
   "outputs": [],
   "source": [
    "class CustomDropout(nn.Module):\n",
    "    \n",
    "    __constants__ = ['p', 'inplace']\n",
    "\n",
    "    def __init__(self, p=0.5, inplace=False):\n",
    "        super(CustomDropout, self).__init__()\n",
    "        if p < 0 or p > 1:\n",
    "            raise ValueError(\"dropout probability has to be between 0 and 1, \"\n",
    "                             \"but got {}\".format(p))\n",
    "        self.p = p\n",
    "        self.inplace = inplace\n",
    "        self.flag = torch.zeros(1,1)\n",
    "    \n",
    "    def forward(self, input):\n",
    "        mu_in = input[0]\n",
    "        var_in = input[1]    \n",
    "        self.flag = F.dropout(torch.ones(mu_in.shape[0], mu_in.shape[1]), self.p, self.training, self.inplace)\n",
    "        self.flag = self.flag.to(device)\n",
    "        try:           \n",
    "            mu_out = mu_in*self.flag\n",
    "            var_out = var_in*(torch.diag_embed(self.flag))\n",
    "        except:     \n",
    "            self.flag = self.flag.to(\"cpu\")\n",
    "            mu_out = mu_in*self.flag\n",
    "            var_out = var_in*(torch.diag_embed(self.flag))\n",
    "        \n",
    "        return mu_out, var_out\n",
    "    \n",
    "    def extra_repr(self):\n",
    "        return 'p={}, inplace={}'.format(self.p, self.inplace)\n",
    "    \n",
    "    def to(self, *args, **kwargs):\n",
    "        self.b = self.flag.to(*args, **kwargs) \n",
    "        return self"
   ]
  },
  {
   "cell_type": "markdown",
   "metadata": {},
   "source": [
    "### Modeling"
   ]
  },
  {
   "cell_type": "code",
   "execution_count": 41,
   "metadata": {
    "ExecuteTime": {
     "end_time": "2020-04-22T07:49:56.309105Z",
     "start_time": "2020-04-22T07:49:56.297785Z"
    }
   },
   "outputs": [],
   "source": [
    "def ModifyInput(input):\n",
    "    if input.dim() == 2:\n",
    "        mu = input[:, 0].unsqueeze(-1)\n",
    "        var = input[:, 1].unsqueeze(-1).unsqueeze(-1)\n",
    "    else:\n",
    "        raise Exception(\"Input shape should be (BATCH x 2).\")\n",
    "    return mu, var\n",
    "\n",
    "def ModifyOutput(input):\n",
    "    mu = input[0]\n",
    "    var = input[1]\n",
    "    out = torch.cat([mu, var], dim=1)\n",
    "        \n",
    "    return out\n",
    "\n",
    "\n",
    "class StochasticLinear(nn.Module):\n",
    "    \n",
    "    def __init__(self, in_features, out_features):\n",
    "        super(StochasticLinear, self).__init__()\n",
    "        self.in_features = in_features\n",
    "        self.out_features = out_features\n",
    "        self.weight = nn.Parameter(torch.Tensor(out_features, in_features))\n",
    "        self.bias = nn.Parameter(torch.Tensor(out_features))\n",
    "        self.reset_parameters()\n",
    "        \n",
    "    def reset_parameters(self):\n",
    "        nn.init.kaiming_uniform_(self.weight, a=math.sqrt(5))\n",
    "        fan_in, _ = nn.init._calculate_fan_in_and_fan_out(self.weight)\n",
    "        bound = 1 / math.sqrt(fan_in)\n",
    "        nn.init.uniform_(self.bias, -bound, bound)\n",
    "        \n",
    "    def forward(self, input):\n",
    "        mu_in = input[0]\n",
    "        var_in = input[1]\n",
    "        mu_out = mu_in @ self.weight.T + self.bias\n",
    "        var_out = torch.diagonal(self.weight @ var_in @ self.weight.T, dim1=-2, dim2=-1)\n",
    "                \n",
    "        return mu_out, var_out\n",
    "    \n",
    "    def extra_repr(self):\n",
    "        return 'in_features={}, out_features={}, bias={}'.format(\n",
    "            self.in_features, self.out_features, self.bias\n",
    "        )\n",
    "    \n",
    "    \n",
    "class StochasticReLU(nn.Module):\n",
    "    def __init__(self, inplace=False):\n",
    "        super(StochasticReLU, self).__init__()\n",
    "        self.inplace = inplace\n",
    "        \n",
    "    def forward(self, input):\n",
    "        mu_in = input[0]\n",
    "        var_in = input[1]\n",
    "        mu_out, var_out = ReLUGauss(mu_in, var_in)\n",
    "        return mu_out, var_out\n",
    "        \n",
    "    def extra_repr(self):\n",
    "        inplace_str = 'inplace=True' if self.inplace else ''\n",
    "        return inplace_str"
   ]
  },
  {
   "cell_type": "code",
   "execution_count": 42,
   "metadata": {
    "ExecuteTime": {
     "end_time": "2020-04-22T07:49:57.460497Z",
     "start_time": "2020-04-22T07:49:57.453729Z"
    }
   },
   "outputs": [],
   "source": [
    "class StochasticRegressor(nn.Module):\n",
    "    \n",
    "    def __init__(self):\n",
    "        super(StochasticRegressor, self).__init__()\n",
    "        self.layer1 = StochasticLinear(1, 200)\n",
    "        self.layer2 = StochasticLinear(200, 200)\n",
    "        self.last = StochasticLinear(200, 1)\n",
    "        self.dropout = CustomDropout(p=0.01)\n",
    "        \n",
    "    def forward(self, x):\n",
    "        out = ModifyInput(x)\n",
    "        out = self.layer1(out)\n",
    "        out = StochasticReLU()(out)\n",
    "        out = self.dropout(out)\n",
    "        out = self.layer2(out)\n",
    "        out = StochasticReLU()(out)\n",
    "        out = self.dropout(out)\n",
    "        out = self.last(out)\n",
    "        out = ModifyOutput(out)\n",
    "        \n",
    "        return out"
   ]
  },
  {
   "cell_type": "markdown",
   "metadata": {},
   "source": [
    "## Get Weigts"
   ]
  },
  {
   "cell_type": "code",
   "execution_count": 106,
   "metadata": {
    "ExecuteTime": {
     "end_time": "2020-04-22T08:22:44.347045Z",
     "start_time": "2020-04-22T08:22:44.336074Z"
    }
   },
   "outputs": [],
   "source": [
    "def LoadMeanWeight(model_mean, model_stochastic):\n",
    "    length = len(model_mean.state_dict().keys())\n",
    "    keys_mean = iter(model_mean.state_dict().keys())\n",
    "    keys_stochastic = iter(model_stochastic.state_dict().keys())\n",
    "    for i in range(length):\n",
    "        model_stochastic.state_dict()[next(keys_stochastic)][:] = model_mean.state_dict()[next(keys_mean)]\n",
    "    \n",
    "    model_stochastic.eval()\n",
    "    return model_stochastic"
   ]
  },
  {
   "cell_type": "code",
   "execution_count": 107,
   "metadata": {
    "ExecuteTime": {
     "end_time": "2020-04-22T08:22:46.918690Z",
     "start_time": "2020-04-22T08:22:46.910811Z"
    }
   },
   "outputs": [],
   "source": [
    "model_stochastic = StochasticRegressor()\n",
    "model_stochastic = LoadMeanWeight(model_mean, model_stochastic)"
   ]
  },
  {
   "cell_type": "markdown",
   "metadata": {},
   "source": [
    "## Prediction"
   ]
  },
  {
   "cell_type": "code",
   "execution_count": 113,
   "metadata": {
    "ExecuteTime": {
     "end_time": "2020-04-22T08:23:47.194437Z",
     "start_time": "2020-04-22T08:23:46.787485Z"
    }
   },
   "outputs": [
    {
     "data": {
      "image/png": "[encoded data removed]",
      "text/plain": [
       "<Figure size 720x360 with 1 Axes>"
      ]
     },
     "metadata": {
      "needs_background": "light"
     },
     "output_type": "display_data"
    }
   ],
   "source": [
    "length = 100\n",
    "start = -3\n",
    "end = 3\n",
    "waith = end - start\n",
    "in_var = 0.25\n",
    "val_x = torch.tensor([[i, in_var] for i in np.arange(start,end,waith/length)])\n",
    "val_y = (val_x[:,0]>0)*4\n",
    "\n",
    "pred_y1 = model_stochastic(val_x).detach().cpu()\n",
    "mu1 = pred_y1[:,0]\n",
    "var1 = pred_y1[:,1]\n",
    "std1 = torch.sqrt(var1)\n",
    "\n",
    "# pred_y2 = model2(val_x).detach().cpu()\n",
    "# mu2 = pred_y2[:,0]\n",
    "# var2 = pred_y2[:,1]\n",
    "# std2 = torch.sqrt(var2)\n",
    "\n",
    "\n",
    "fig = plt.figure(figsize=(10, 5))\n",
    "ax1 = fig.add_subplot(1,2,1)\n",
    "ax1.errorbar(val_x[:,0], mu1, std1, label=\"NN (mean+std, x_sd=0)\")\n",
    "ax1.plot(val_x[:,0], val_y, label=\"true\")\n",
    "ax1.grid()\n",
    "ax1.legend(loc='upper left')\n",
    "plt.xlim(-3, 3)\n",
    "plt.ylim(-1.5, 6.5)\n",
    "\n",
    "# ax2 = fig.add_subplot(1,2,2)\n",
    "# ax2.errorbar(val_x[:,0], mu2, std2, label=\"NN (mean+std, x_sd=0.5)\")\n",
    "# ax2.plot(val_x[:,0], val_y, label=\"true\")\n",
    "# ax2.grid()\n",
    "# ax2.legend(loc='upper left')\n",
    "# plt.xlim(-3, 3)\n",
    "# plt.ylim(-1.5, 6.5)\n",
    "\n",
    "fig.show()"
   ]
  }
 ],
 "metadata": {
  "kernelspec": {
   "display_name": "Python 3",
   "language": "python",
   "name": "python3"
  },
  "language_info": {
   "codemirror_mode": {
    "name": "ipython",
    "version": 3
   },
   "file_extension": ".py",
   "mimetype": "text/x-python",
   "name": "python",
   "nbconvert_exporter": "python",
   "pygments_lexer": "ipython3",
   "version": "3.7.3"
  },
  "toc": {
   "base_numbering": 1,
   "nav_menu": {},
   "number_sections": true,
   "sideBar": true,
   "skip_h1_title": false,
   "title_cell": "Table of Contents",
   "title_sidebar": "Contents",
   "toc_cell": false,
   "toc_position": {},
   "toc_section_display": true,
   "toc_window_display": false
  }
 },
 "nbformat": 4,
 "nbformat_minor": 4
}
