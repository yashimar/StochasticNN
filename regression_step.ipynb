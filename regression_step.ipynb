{
 "cells": [
  {
   "cell_type": "markdown",
   "metadata": {},
   "source": [
    "# Imports"
   ]
  },
  {
   "cell_type": "code",
   "execution_count": 1058,
   "metadata": {
    "ExecuteTime": {
     "end_time": "2020-04-16T18:42:23.474261Z",
     "start_time": "2020-04-16T18:42:23.437200Z"
    }
   },
   "outputs": [],
   "source": [
    "import random\n",
    "import math\n",
    "import time\n",
    "import matplotlib.pyplot as plt\n",
    "import pandas as pd\n",
    "import numpy as np\n",
    "from scipy import special\n",
    "\n",
    "import torch \n",
    "import torch.utils.data as data\n",
    "import torch.nn as nn\n",
    "import torch.nn.functional as F\n",
    "import torch.optim as optim\n",
    "\n",
    "from torchvision import transforms\n",
    "from torchsummary import summary"
   ]
  },
  {
   "cell_type": "code",
   "execution_count": 1467,
   "metadata": {
    "ExecuteTime": {
     "end_time": "2020-04-17T11:43:59.037602Z",
     "start_time": "2020-04-17T11:43:59.033766Z"
    }
   },
   "outputs": [
    {
     "name": "stdout",
     "output_type": "stream",
     "text": [
      "device :  cuda\n",
      "num gpu :  4\n"
     ]
    }
   ],
   "source": [
    "import os\n",
    "os.environ[\"CUDA_VISIBLE_DEVICES\"]=\"0,1,2,3\"\n",
    "device = 'cuda' if torch.cuda.is_available() else 'cpu'\n",
    "# device = torch.device('cuda') \n",
    "print('device : ', device)\n",
    "print('num gpu : ', torch.cuda.device_count())"
   ]
  },
  {
   "cell_type": "code",
   "execution_count": 3,
   "metadata": {
    "ExecuteTime": {
     "end_time": "2020-04-11T08:55:43.094928Z",
     "start_time": "2020-04-11T08:55:43.090007Z"
    }
   },
   "outputs": [],
   "source": [
    "# torch.manual_seed(1234)\n",
    "# np.random.seed(1234)\n",
    "# random.seed(1234)"
   ]
  },
  {
   "cell_type": "markdown",
   "metadata": {},
   "source": [
    "# Generate Data"
   ]
  },
  {
   "cell_type": "code",
   "execution_count": 1287,
   "metadata": {
    "ExecuteTime": {
     "end_time": "2020-04-17T09:56:38.101110Z",
     "start_time": "2020-04-17T09:56:38.095683Z"
    }
   },
   "outputs": [
    {
     "data": {
      "text/plain": [
       "(10, 2)"
      ]
     },
     "execution_count": 1287,
     "metadata": {},
     "output_type": "execute_result"
    }
   ],
   "source": [
    "np.array([[1, 1] for i in range(10)]).shape"
   ]
  },
  {
   "cell_type": "code",
   "execution_count": 1449,
   "metadata": {
    "ExecuteTime": {
     "end_time": "2020-04-17T11:23:27.547390Z",
     "start_time": "2020-04-17T11:23:27.536006Z"
    }
   },
   "outputs": [],
   "source": [
    "class StepDataset(data.Dataset):\n",
    "    \n",
    "    def __init__(self, upper=3, lower=-3, length=100, error_range=0.1, ymax=1., x_var=False):\n",
    "        self.upper = upper\n",
    "        self.lower = lower\n",
    "        self.length = length\n",
    "        self.error_range = error_range\n",
    "        self.noise = np.array([2 * self.error_range * np. random.rand() - self.error_range for i in range(self.length)]).reshape(-1,1).astype(np.float32)\n",
    "\n",
    "        if x_var != None:\n",
    "            self.var = (2*self.error_range)**2/12\n",
    "            self.input = np.array([[(self.upper - self.lower) * np. random.rand() + self.lower, x_var] for i in range(self.length)]).astype(np.float32)\n",
    "            self.output = np.array([[x.item()*ymax,self.var] for x in (self.input[:,0]>0)]).astype(np.float32)\n",
    "            self.output[:,0] += self.noise.reshape(-1)\n",
    "        else:\n",
    "            self.input = np.array([(self.upper - self.lower) * np. random.rand() + self.lower for i in range(self.length)]).reshape(-1,1).astype(np.float32)\n",
    "            self.output = (ymax * (self.input > 0) + self.noise).astype(np.float32)\n",
    "\n",
    "    def __len__(self):\n",
    "        return self.length\n",
    "    \n",
    "    def __getitem__(self, index):\n",
    "        x = self.input[index]\n",
    "        y = self.output[index]\n",
    "        \n",
    "        return x, y"
   ]
  },
  {
   "cell_type": "code",
   "execution_count": 1363,
   "metadata": {
    "ExecuteTime": {
     "end_time": "2020-04-17T10:31:01.670769Z",
     "start_time": "2020-04-17T10:31:01.666472Z"
    }
   },
   "outputs": [],
   "source": [
    "sample_dataset = StepDataset(x_var=0)\n",
    "sample_dataloader = torch.utils.data.DataLoader(sample_dataset,batch_size=32,shuffle=True)\n",
    "sample_dataloader = iter(sample_dataloader)\n",
    "x, y = next(sample_dataloader)"
   ]
  },
  {
   "cell_type": "code",
   "execution_count": 1279,
   "metadata": {
    "ExecuteTime": {
     "end_time": "2020-04-17T09:48:04.066310Z",
     "start_time": "2020-04-17T09:48:03.919100Z"
    }
   },
   "outputs": [
    {
     "data": {
      "image/png": "[encoded data removed]",
      "text/plain": [
       "<Figure size 432x288 with 1 Axes>"
      ]
     },
     "metadata": {
      "needs_background": "light"
     },
     "output_type": "display_data"
    }
   ],
   "source": [
    "sample_dataset = StepDataset(3,-3,100,0.1)\n",
    "sample_dataloader = torch.utils.data.DataLoader(sample_dataset,batch_size=100,shuffle=True)\n",
    "\n",
    "sample_dataloader = iter(sample_dataloader)\n",
    "x, y = next(sample_dataloader)\n",
    "\n",
    "\n",
    "plt.scatter(x, y)\n",
    "plt.xlim(-3, 3)\n",
    "plt.ylim(-0.5, 1.5)\n",
    "plt.grid()\n",
    "plt.show()"
   ]
  },
  {
   "cell_type": "markdown",
   "metadata": {},
   "source": [
    "# Basic Regression"
   ]
  },
  {
   "cell_type": "markdown",
   "metadata": {},
   "source": [
    "## Modeling"
   ]
  },
  {
   "cell_type": "code",
   "execution_count": 123,
   "metadata": {
    "ExecuteTime": {
     "end_time": "2020-04-14T08:24:31.655188Z",
     "start_time": "2020-04-14T08:24:31.646933Z"
    }
   },
   "outputs": [],
   "source": [
    "class BasicRegressor(nn.Module):\n",
    "    \n",
    "    def __init__(self):\n",
    "        super(BasicRegressor, self).__init__()\n",
    "        self.layer1 = nn.Linear(1, 200)\n",
    "        self.layer2 = nn.Linear(200, 200)\n",
    "        self.last = nn.Linear(200, 1)\n",
    "        self.dropout = nn.Dropout(p=0.01)\n",
    "        \n",
    "    def forward(self, x):\n",
    "        out = self.layer1(x)\n",
    "        out = F.relu(out)\n",
    "        out = self.dropout(out)\n",
    "        out = self.layer2(out)\n",
    "        out = F.relu(out)\n",
    "        out = self.dropout(out)\n",
    "        out = self.last(out)\n",
    "        \n",
    "        return out"
   ]
  },
  {
   "cell_type": "code",
   "execution_count": 124,
   "metadata": {
    "ExecuteTime": {
     "end_time": "2020-04-14T08:24:32.754306Z",
     "start_time": "2020-04-14T08:24:32.733603Z"
    }
   },
   "outputs": [
    {
     "name": "stdout",
     "output_type": "stream",
     "text": [
      "BasicRegressor(\n",
      "  (layer1): Linear(in_features=1, out_features=200, bias=True)\n",
      "  (layer2): Linear(in_features=200, out_features=200, bias=True)\n",
      "  (last): Linear(in_features=200, out_features=1, bias=True)\n",
      "  (dropout): Dropout(p=0.01, inplace=False)\n",
      ")\n",
      "----------------------------------------------------------------\n",
      "        Layer (type)               Output Shape         Param #\n",
      "================================================================\n",
      "            Linear-1                  [-1, 200]             400\n",
      "           Dropout-2                  [-1, 200]               0\n",
      "            Linear-3                  [-1, 200]          40,200\n",
      "           Dropout-4                  [-1, 200]               0\n",
      "            Linear-5                    [-1, 1]             201\n",
      "================================================================\n",
      "Total params: 40,801\n",
      "Trainable params: 40,801\n",
      "Non-trainable params: 0\n",
      "----------------------------------------------------------------\n",
      "Input size (MB): 0.00\n",
      "Forward/backward pass size (MB): 0.01\n",
      "Params size (MB): 0.16\n",
      "Estimated Total Size (MB): 0.16\n",
      "----------------------------------------------------------------\n"
     ]
    }
   ],
   "source": [
    "net = BasicRegressor().to(device)\n",
    "print(net)\n",
    "summary(net,(1,))"
   ]
  },
  {
   "cell_type": "code",
   "execution_count": 668,
   "metadata": {
    "ExecuteTime": {
     "end_time": "2020-04-16T14:43:32.690461Z",
     "start_time": "2020-04-16T14:43:32.680513Z"
    }
   },
   "outputs": [
    {
     "data": {
      "text/plain": [
       "tensor([[-0.0963]], grad_fn=<AddmmBackward>)"
      ]
     },
     "execution_count": 668,
     "metadata": {},
     "output_type": "execute_result"
    }
   ],
   "source": [
    "net = BasicRegressor()\n",
    "net(torch.tensor([[0.]]))"
   ]
  },
  {
   "cell_type": "markdown",
   "metadata": {},
   "source": [
    "## Train"
   ]
  },
  {
   "cell_type": "code",
   "execution_count": 125,
   "metadata": {
    "ExecuteTime": {
     "end_time": "2020-04-14T08:24:34.367579Z",
     "start_time": "2020-04-14T08:24:34.356339Z"
    }
   },
   "outputs": [],
   "source": [
    "def train(model, dataloader, num_epochs):   \n",
    "    model = nn.DataParallel(model)\n",
    "    model.to(device)\n",
    "    model.train()\n",
    "    \n",
    "    optimizer = torch.optim.Adam(model.parameters())\n",
    "    criterion = nn.MSELoss()\n",
    "    \n",
    "    for epoch in range(num_epochs):      \n",
    "        t_epoch_start = time.time()\n",
    "        epoch_loss = 0.0\n",
    "        \n",
    "        print('-------------')\n",
    "        print('Epoch {}/{}'.format(epoch+1, num_epochs))\n",
    "        print('-------------')\n",
    "        \n",
    "        for data in dataloader:       \n",
    "            batch_size = len(data[0])\n",
    "            x = data[0].to(device)\n",
    "            y = data[1].to(device)\n",
    "            out = model(x)\n",
    "            \n",
    "            loss = criterion(out, y)\n",
    "            optimizer.zero_grad()\n",
    "            loss.backward()\n",
    "            optimizer.step()\n",
    "            \n",
    "            epoch_loss += loss.item()\n",
    "            \n",
    "        t_epoch_finish = time.time()\n",
    "        print('-------------')\n",
    "        print('epoch {} || Loss:{:.4f} '.format(epoch, epoch_loss/batch_size))\n",
    "        print('timer:  {:.4f} sec.'.format(t_epoch_finish - t_epoch_start))\n",
    "        \n",
    "    return model"
   ]
  },
  {
   "cell_type": "code",
   "execution_count": 126,
   "metadata": {
    "ExecuteTime": {
     "end_time": "2020-04-14T08:24:41.263773Z",
     "start_time": "2020-04-14T08:24:35.085339Z"
    },
    "scrolled": true
   },
   "outputs": [
    {
     "name": "stdout",
     "output_type": "stream",
     "text": [
      "-------------\n",
      "Epoch 1/100\n",
      "-------------\n",
      "-------------\n",
      "epoch 0 || Loss:0.5503 \n",
      "timer:  0.1091 sec.\n",
      "-------------\n",
      "Epoch 2/100\n",
      "-------------\n",
      "-------------\n",
      "epoch 1 || Loss:0.1114 \n",
      "timer:  0.0609 sec.\n",
      "-------------\n",
      "Epoch 3/100\n",
      "-------------\n",
      "-------------\n",
      "epoch 2 || Loss:0.1206 \n",
      "timer:  0.0592 sec.\n",
      "-------------\n",
      "Epoch 4/100\n",
      "-------------\n",
      "-------------\n",
      "epoch 3 || Loss:0.0680 \n",
      "timer:  0.0624 sec.\n",
      "-------------\n",
      "Epoch 5/100\n",
      "-------------\n",
      "-------------\n",
      "epoch 4 || Loss:0.0569 \n",
      "timer:  0.1109 sec.\n",
      "-------------\n",
      "Epoch 6/100\n",
      "-------------\n",
      "-------------\n",
      "epoch 5 || Loss:0.0413 \n",
      "timer:  0.0440 sec.\n",
      "-------------\n",
      "Epoch 7/100\n",
      "-------------\n",
      "-------------\n",
      "epoch 6 || Loss:0.0362 \n",
      "timer:  0.0560 sec.\n",
      "-------------\n",
      "Epoch 8/100\n",
      "-------------\n",
      "-------------\n",
      "epoch 7 || Loss:0.0272 \n",
      "timer:  0.0529 sec.\n",
      "-------------\n",
      "Epoch 9/100\n",
      "-------------\n",
      "-------------\n",
      "epoch 8 || Loss:0.0246 \n",
      "timer:  0.0414 sec.\n",
      "-------------\n",
      "Epoch 10/100\n",
      "-------------\n",
      "-------------\n",
      "epoch 9 || Loss:0.0438 \n",
      "timer:  0.0458 sec.\n",
      "-------------\n",
      "Epoch 11/100\n",
      "-------------\n",
      "-------------\n",
      "epoch 10 || Loss:0.0259 \n",
      "timer:  0.0737 sec.\n",
      "-------------\n",
      "Epoch 12/100\n",
      "-------------\n",
      "-------------\n",
      "epoch 11 || Loss:0.0213 \n",
      "timer:  0.0619 sec.\n",
      "-------------\n",
      "Epoch 13/100\n",
      "-------------\n",
      "-------------\n",
      "epoch 12 || Loss:0.0191 \n",
      "timer:  0.0544 sec.\n",
      "-------------\n",
      "Epoch 14/100\n",
      "-------------\n",
      "-------------\n",
      "epoch 13 || Loss:0.0200 \n",
      "timer:  0.0567 sec.\n",
      "-------------\n",
      "Epoch 15/100\n",
      "-------------\n",
      "-------------\n",
      "epoch 14 || Loss:0.0237 \n",
      "timer:  0.0710 sec.\n",
      "-------------\n",
      "Epoch 16/100\n",
      "-------------\n",
      "-------------\n",
      "epoch 15 || Loss:0.0210 \n",
      "timer:  0.0497 sec.\n",
      "-------------\n",
      "Epoch 17/100\n",
      "-------------\n",
      "-------------\n",
      "epoch 16 || Loss:0.0203 \n",
      "timer:  0.0803 sec.\n",
      "-------------\n",
      "Epoch 18/100\n",
      "-------------\n",
      "-------------\n",
      "epoch 17 || Loss:0.0185 \n",
      "timer:  0.0673 sec.\n",
      "-------------\n",
      "Epoch 19/100\n",
      "-------------\n",
      "-------------\n",
      "epoch 18 || Loss:0.0195 \n",
      "timer:  0.0517 sec.\n",
      "-------------\n",
      "Epoch 20/100\n",
      "-------------\n",
      "-------------\n",
      "epoch 19 || Loss:0.0189 \n",
      "timer:  0.0534 sec.\n",
      "-------------\n",
      "Epoch 21/100\n",
      "-------------\n",
      "-------------\n",
      "epoch 20 || Loss:0.0230 \n",
      "timer:  0.0589 sec.\n",
      "-------------\n",
      "Epoch 22/100\n",
      "-------------\n",
      "-------------\n",
      "epoch 21 || Loss:0.0183 \n",
      "timer:  0.0530 sec.\n",
      "-------------\n",
      "Epoch 23/100\n",
      "-------------\n",
      "-------------\n",
      "epoch 22 || Loss:0.0224 \n",
      "timer:  0.0741 sec.\n",
      "-------------\n",
      "Epoch 24/100\n",
      "-------------\n",
      "-------------\n",
      "epoch 23 || Loss:0.0200 \n",
      "timer:  0.0616 sec.\n",
      "-------------\n",
      "Epoch 25/100\n",
      "-------------\n",
      "-------------\n",
      "epoch 24 || Loss:0.0191 \n",
      "timer:  0.1011 sec.\n",
      "-------------\n",
      "Epoch 26/100\n",
      "-------------\n",
      "-------------\n",
      "epoch 25 || Loss:0.0165 \n",
      "timer:  0.0641 sec.\n",
      "-------------\n",
      "Epoch 27/100\n",
      "-------------\n",
      "-------------\n",
      "epoch 26 || Loss:0.0326 \n",
      "timer:  0.0478 sec.\n",
      "-------------\n",
      "Epoch 28/100\n",
      "-------------\n",
      "-------------\n",
      "epoch 27 || Loss:0.0219 \n",
      "timer:  0.0499 sec.\n",
      "-------------\n",
      "Epoch 29/100\n",
      "-------------\n",
      "-------------\n",
      "epoch 28 || Loss:0.0277 \n",
      "timer:  0.0517 sec.\n",
      "-------------\n",
      "Epoch 30/100\n",
      "-------------\n",
      "-------------\n",
      "epoch 29 || Loss:0.0210 \n",
      "timer:  0.0527 sec.\n",
      "-------------\n",
      "Epoch 31/100\n",
      "-------------\n",
      "-------------\n",
      "epoch 30 || Loss:0.0331 \n",
      "timer:  0.1021 sec.\n",
      "-------------\n",
      "Epoch 32/100\n",
      "-------------\n",
      "-------------\n",
      "epoch 31 || Loss:0.0450 \n",
      "timer:  0.0615 sec.\n",
      "-------------\n",
      "Epoch 33/100\n",
      "-------------\n",
      "-------------\n",
      "epoch 32 || Loss:0.0252 \n",
      "timer:  0.0442 sec.\n",
      "-------------\n",
      "Epoch 34/100\n",
      "-------------\n",
      "-------------\n",
      "epoch 33 || Loss:0.0297 \n",
      "timer:  0.0519 sec.\n",
      "-------------\n",
      "Epoch 35/100\n",
      "-------------\n",
      "-------------\n",
      "epoch 34 || Loss:0.0344 \n",
      "timer:  0.0773 sec.\n",
      "-------------\n",
      "Epoch 36/100\n",
      "-------------\n",
      "-------------\n",
      "epoch 35 || Loss:0.0285 \n",
      "timer:  0.0948 sec.\n",
      "-------------\n",
      "Epoch 37/100\n",
      "-------------\n",
      "-------------\n",
      "epoch 36 || Loss:0.0265 \n",
      "timer:  0.0717 sec.\n",
      "-------------\n",
      "Epoch 38/100\n",
      "-------------\n",
      "-------------\n",
      "epoch 37 || Loss:0.0217 \n",
      "timer:  0.0459 sec.\n",
      "-------------\n",
      "Epoch 39/100\n",
      "-------------\n",
      "-------------\n",
      "epoch 38 || Loss:0.0346 \n",
      "timer:  0.0466 sec.\n",
      "-------------\n",
      "Epoch 40/100\n",
      "-------------\n",
      "-------------\n",
      "epoch 39 || Loss:0.0248 \n",
      "timer:  0.0482 sec.\n",
      "-------------\n",
      "Epoch 41/100\n",
      "-------------\n",
      "-------------\n",
      "epoch 40 || Loss:0.0186 \n",
      "timer:  0.0603 sec.\n",
      "-------------\n",
      "Epoch 42/100\n",
      "-------------\n",
      "-------------\n",
      "epoch 41 || Loss:0.0167 \n",
      "timer:  0.0832 sec.\n",
      "-------------\n",
      "Epoch 43/100\n",
      "-------------\n",
      "-------------\n",
      "epoch 42 || Loss:0.0164 \n",
      "timer:  0.0586 sec.\n",
      "-------------\n",
      "Epoch 44/100\n",
      "-------------\n",
      "-------------\n",
      "epoch 43 || Loss:0.0179 \n",
      "timer:  0.0379 sec.\n",
      "-------------\n",
      "Epoch 45/100\n",
      "-------------\n",
      "-------------\n",
      "epoch 44 || Loss:0.0162 \n",
      "timer:  0.0513 sec.\n",
      "-------------\n",
      "Epoch 46/100\n",
      "-------------\n",
      "-------------\n",
      "epoch 45 || Loss:0.0157 \n",
      "timer:  0.0459 sec.\n",
      "-------------\n",
      "Epoch 47/100\n",
      "-------------\n",
      "-------------\n",
      "epoch 46 || Loss:0.0213 \n",
      "timer:  0.0609 sec.\n",
      "-------------\n",
      "Epoch 48/100\n",
      "-------------\n",
      "-------------\n",
      "epoch 47 || Loss:0.0167 \n",
      "timer:  0.0505 sec.\n",
      "-------------\n",
      "Epoch 49/100\n",
      "-------------\n",
      "-------------\n",
      "epoch 48 || Loss:0.0173 \n",
      "timer:  0.0481 sec.\n",
      "-------------\n",
      "Epoch 50/100\n",
      "-------------\n",
      "-------------\n",
      "epoch 49 || Loss:0.0167 \n",
      "timer:  0.0666 sec.\n",
      "-------------\n",
      "Epoch 51/100\n",
      "-------------\n",
      "-------------\n",
      "epoch 50 || Loss:0.0158 \n",
      "timer:  0.0624 sec.\n",
      "-------------\n",
      "Epoch 52/100\n",
      "-------------\n",
      "-------------\n",
      "epoch 51 || Loss:0.0181 \n",
      "timer:  0.0477 sec.\n",
      "-------------\n",
      "Epoch 53/100\n",
      "-------------\n",
      "-------------\n",
      "epoch 52 || Loss:0.0197 \n",
      "timer:  0.0463 sec.\n",
      "-------------\n",
      "Epoch 54/100\n",
      "-------------\n",
      "-------------\n",
      "epoch 53 || Loss:0.0160 \n",
      "timer:  0.0403 sec.\n",
      "-------------\n",
      "Epoch 55/100\n",
      "-------------\n",
      "-------------\n",
      "epoch 54 || Loss:0.0183 \n",
      "timer:  0.0448 sec.\n",
      "-------------\n",
      "Epoch 56/100\n",
      "-------------\n",
      "-------------\n",
      "epoch 55 || Loss:0.0164 \n",
      "timer:  0.0564 sec.\n",
      "-------------\n",
      "Epoch 57/100\n",
      "-------------\n",
      "-------------\n",
      "epoch 56 || Loss:0.0194 \n",
      "timer:  0.0641 sec.\n",
      "-------------\n",
      "Epoch 58/100\n",
      "-------------\n",
      "-------------\n",
      "epoch 57 || Loss:0.0173 \n",
      "timer:  0.0803 sec.\n",
      "-------------\n",
      "Epoch 59/100\n",
      "-------------\n",
      "-------------\n",
      "epoch 58 || Loss:0.0179 \n",
      "timer:  0.0472 sec.\n",
      "-------------\n",
      "Epoch 60/100\n",
      "-------------\n",
      "-------------\n",
      "epoch 59 || Loss:0.0187 \n",
      "timer:  0.0683 sec.\n",
      "-------------\n",
      "Epoch 61/100\n",
      "-------------\n",
      "-------------\n",
      "epoch 60 || Loss:0.0232 \n",
      "timer:  0.0702 sec.\n",
      "-------------\n",
      "Epoch 62/100\n",
      "-------------\n",
      "-------------\n",
      "epoch 61 || Loss:0.0180 \n",
      "timer:  0.0422 sec.\n",
      "-------------\n",
      "Epoch 63/100\n",
      "-------------\n",
      "-------------\n",
      "epoch 62 || Loss:0.0155 \n",
      "timer:  0.0615 sec.\n",
      "-------------\n",
      "Epoch 64/100\n",
      "-------------\n",
      "-------------\n",
      "epoch 63 || Loss:0.0166 \n",
      "timer:  0.0829 sec.\n",
      "-------------\n",
      "Epoch 65/100\n",
      "-------------\n",
      "-------------\n",
      "epoch 64 || Loss:0.0136 \n",
      "timer:  0.0514 sec.\n",
      "-------------\n",
      "Epoch 66/100\n",
      "-------------\n",
      "-------------\n",
      "epoch 65 || Loss:0.0177 \n",
      "timer:  0.0599 sec.\n",
      "-------------\n",
      "Epoch 67/100\n",
      "-------------\n",
      "-------------\n",
      "epoch 66 || Loss:0.0137 \n",
      "timer:  0.0475 sec.\n",
      "-------------\n",
      "Epoch 68/100\n",
      "-------------\n",
      "-------------\n",
      "epoch 67 || Loss:0.0271 \n",
      "timer:  0.0589 sec.\n",
      "-------------\n",
      "Epoch 69/100\n",
      "-------------\n",
      "-------------\n",
      "epoch 68 || Loss:0.0208 \n",
      "timer:  0.0530 sec.\n",
      "-------------\n",
      "Epoch 70/100\n",
      "-------------\n",
      "-------------\n",
      "epoch 69 || Loss:0.0175 \n",
      "timer:  0.0793 sec.\n",
      "-------------\n",
      "Epoch 71/100\n",
      "-------------\n",
      "-------------\n",
      "epoch 70 || Loss:0.0153 \n",
      "timer:  0.0498 sec.\n",
      "-------------\n",
      "Epoch 72/100\n",
      "-------------\n",
      "-------------\n",
      "epoch 71 || Loss:0.0205 \n",
      "timer:  0.0589 sec.\n",
      "-------------\n",
      "Epoch 73/100\n",
      "-------------\n",
      "-------------\n",
      "epoch 72 || Loss:0.0166 \n",
      "timer:  0.0565 sec.\n",
      "-------------\n",
      "Epoch 74/100\n",
      "-------------\n",
      "-------------\n",
      "epoch 73 || Loss:0.0184 \n",
      "timer:  0.0690 sec.\n",
      "-------------\n",
      "Epoch 75/100\n",
      "-------------\n",
      "-------------\n",
      "epoch 74 || Loss:0.0188 \n",
      "timer:  0.0775 sec.\n",
      "-------------\n",
      "Epoch 76/100\n",
      "-------------\n",
      "-------------\n",
      "epoch 75 || Loss:0.0184 \n",
      "timer:  0.0584 sec.\n",
      "-------------\n",
      "Epoch 77/100\n",
      "-------------\n",
      "-------------\n",
      "epoch 76 || Loss:0.0166 \n",
      "timer:  0.0681 sec.\n",
      "-------------\n",
      "Epoch 78/100\n",
      "-------------\n",
      "-------------\n",
      "epoch 77 || Loss:0.0315 \n",
      "timer:  0.0472 sec.\n",
      "-------------\n",
      "Epoch 79/100\n",
      "-------------\n",
      "-------------\n",
      "epoch 78 || Loss:0.0249 \n",
      "timer:  0.0568 sec.\n",
      "-------------\n",
      "Epoch 80/100\n",
      "-------------\n",
      "-------------\n",
      "epoch 79 || Loss:0.0300 \n",
      "timer:  0.0706 sec.\n",
      "-------------\n",
      "Epoch 81/100\n",
      "-------------\n",
      "-------------\n",
      "epoch 80 || Loss:0.0264 \n",
      "timer:  0.0698 sec.\n",
      "-------------\n",
      "Epoch 82/100\n",
      "-------------\n",
      "-------------\n",
      "epoch 81 || Loss:0.0391 \n",
      "timer:  0.0792 sec.\n",
      "-------------\n",
      "Epoch 83/100\n",
      "-------------\n",
      "-------------\n",
      "epoch 82 || Loss:0.0200 \n",
      "timer:  0.0426 sec.\n",
      "-------------\n",
      "Epoch 84/100\n",
      "-------------\n"
     ]
    },
    {
     "name": "stdout",
     "output_type": "stream",
     "text": [
      "-------------\n",
      "epoch 83 || Loss:0.0277 \n",
      "timer:  0.0441 sec.\n",
      "-------------\n",
      "Epoch 85/100\n",
      "-------------\n",
      "-------------\n",
      "epoch 84 || Loss:0.0170 \n",
      "timer:  0.0645 sec.\n",
      "-------------\n",
      "Epoch 86/100\n",
      "-------------\n",
      "-------------\n",
      "epoch 85 || Loss:0.0166 \n",
      "timer:  0.0624 sec.\n",
      "-------------\n",
      "Epoch 87/100\n",
      "-------------\n",
      "-------------\n",
      "epoch 86 || Loss:0.0215 \n",
      "timer:  0.0901 sec.\n",
      "-------------\n",
      "Epoch 88/100\n",
      "-------------\n",
      "-------------\n",
      "epoch 87 || Loss:0.0157 \n",
      "timer:  0.0856 sec.\n",
      "-------------\n",
      "Epoch 89/100\n",
      "-------------\n",
      "-------------\n",
      "epoch 88 || Loss:0.0126 \n",
      "timer:  0.0535 sec.\n",
      "-------------\n",
      "Epoch 90/100\n",
      "-------------\n",
      "-------------\n",
      "epoch 89 || Loss:0.0154 \n",
      "timer:  0.0680 sec.\n",
      "-------------\n",
      "Epoch 91/100\n",
      "-------------\n",
      "-------------\n",
      "epoch 90 || Loss:0.0131 \n",
      "timer:  0.0680 sec.\n",
      "-------------\n",
      "Epoch 92/100\n",
      "-------------\n",
      "-------------\n",
      "epoch 91 || Loss:0.0160 \n",
      "timer:  0.0911 sec.\n",
      "-------------\n",
      "Epoch 93/100\n",
      "-------------\n",
      "-------------\n",
      "epoch 92 || Loss:0.0176 \n",
      "timer:  0.0795 sec.\n",
      "-------------\n",
      "Epoch 94/100\n",
      "-------------\n",
      "-------------\n",
      "epoch 93 || Loss:0.0193 \n",
      "timer:  0.0385 sec.\n",
      "-------------\n",
      "Epoch 95/100\n",
      "-------------\n",
      "-------------\n",
      "epoch 94 || Loss:0.0304 \n",
      "timer:  0.0362 sec.\n",
      "-------------\n",
      "Epoch 96/100\n",
      "-------------\n",
      "-------------\n",
      "epoch 95 || Loss:0.0182 \n",
      "timer:  0.0486 sec.\n",
      "-------------\n",
      "Epoch 97/100\n",
      "-------------\n",
      "-------------\n",
      "epoch 96 || Loss:0.0184 \n",
      "timer:  0.0632 sec.\n",
      "-------------\n",
      "Epoch 98/100\n",
      "-------------\n",
      "-------------\n",
      "epoch 97 || Loss:0.0217 \n",
      "timer:  0.0804 sec.\n",
      "-------------\n",
      "Epoch 99/100\n",
      "-------------\n",
      "-------------\n",
      "epoch 98 || Loss:0.0155 \n",
      "timer:  0.0768 sec.\n",
      "-------------\n",
      "Epoch 100/100\n",
      "-------------\n",
      "-------------\n",
      "epoch 99 || Loss:0.0127 \n",
      "timer:  0.0504 sec.\n"
     ]
    }
   ],
   "source": [
    "dataset = StepDataset(3,-3,100,0.1)\n",
    "dataloader = torch.utils.data.DataLoader(dataset,batch_size=16,shuffle=True)\n",
    "\n",
    "model = BasicRegressor().to(device)\n",
    "\n",
    "model = train(model, dataloader, 100)"
   ]
  },
  {
   "cell_type": "markdown",
   "metadata": {},
   "source": [
    "## Validation"
   ]
  },
  {
   "cell_type": "code",
   "execution_count": 132,
   "metadata": {
    "ExecuteTime": {
     "end_time": "2020-04-14T08:25:10.120602Z",
     "start_time": "2020-04-14T08:25:09.942555Z"
    }
   },
   "outputs": [
    {
     "data": {
      "image/png": "[encoded data removed]",
      "text/plain": [
       "<Figure size 432x288 with 1 Axes>"
      ]
     },
     "metadata": {
      "needs_background": "light"
     },
     "output_type": "display_data"
    }
   ],
   "source": [
    "val_dataset = StepDataset(3,-3,100,0.1)\n",
    "val_dataloader = iter(torch.utils.data.DataLoader(val_dataset,batch_size=100,shuffle=True))\n",
    "val_data = next(val_dataloader)\n",
    "val_x = val_data[0]\n",
    "val_y = val_data[1]\n",
    "pred_y = model(val_x).detach().cpu()\n",
    "\n",
    "\n",
    "fig = plt.figure()\n",
    "ax = fig.add_subplot(1,1,1)\n",
    "ax.scatter(val_x, pred_y, label=\"predict\")\n",
    "ax.scatter(val_x, val_y, label=\"true\")\n",
    "ax.grid()\n",
    "ax.legend(loc='upper left')\n",
    "plt.xlim(-3, 3)\n",
    "plt.ylim(-0.5, 1.5)\n",
    "fig.show()"
   ]
  },
  {
   "cell_type": "markdown",
   "metadata": {},
   "source": [
    "# Stochastic Reression"
   ]
  },
  {
   "cell_type": "markdown",
   "metadata": {},
   "source": [
    "## Modified ReLU"
   ]
  },
  {
   "cell_type": "code",
   "execution_count": 1474,
   "metadata": {
    "ExecuteTime": {
     "end_time": "2020-04-17T11:46:36.214419Z",
     "start_time": "2020-04-17T11:46:36.201158Z"
    }
   },
   "outputs": [],
   "source": [
    "def ReLUGauss(mu_in, var_in, epsilon=1.0e-6, cut_sd=4.0):\n",
    "    mu_out = torch.zeros(mu_in.shape[0], mu_in.shape[1])\n",
    "    var_out = torch.zeros(var_in.shape[0], var_in.shape[1])\n",
    "    mu = mu_in\n",
    "    var = var_in\n",
    "    sigma = torch.sqrt(var)\n",
    "\n",
    "    if (var < 0).any().item(): raise Exception(f\"ERROR in ReLUGauss: 'var_in' should be all positive value, but it has negative value.\")\n",
    "    idx_SmallSigma = (sigma < epsilon)\n",
    "#     if sigma < epsilon: \n",
    "#         mu_out[i], var_out[i] =  max(0., mu), 0.\n",
    "#         continue\n",
    "    #Approximation to speedup for abs(mu)>cut_sd*sigma.\n",
    "    if cut_sd != None:\n",
    "        idx_LargeMu = (mu > cut_sd*sigma)\n",
    "        idx_SmallMU = (mu < -cut_sd*sigma)\n",
    "#     if cut_sd != None and mu > cut_sd*sigma: \n",
    "#         mu_out[i], var_out[i] = mu, var\n",
    "#         continue\n",
    "#     if cut_sd != None and mu < -cut_sd*sigma:  \n",
    "#         mu_out[i], var_out[i] = 0., 0.\n",
    "#         continue\n",
    "\n",
    "    sqrt2 = math.sqrt(2.0)\n",
    "    sqrt2pi = math.sqrt(2.0*math.pi)\n",
    "    z = mu / (sqrt2*sigma)\n",
    "    z[z!=z] = 0.\n",
    "    E = torch.erf(z)\n",
    "    X = torch.exp(-z*z)\n",
    "    mu_out = sigma/sqrt2pi*X + mu/2.0*(1.0+E)\n",
    "    var_out = (1.0+E)/4.0*(mu*mu*(1.0-E)+2.0*var) - sigma*X/sqrt2pi*(sigma*X/sqrt2pi+mu*E)\n",
    "    \n",
    "    idx_SmallVarOut = (var_out<0.0)*(var_out>-epsilon)\n",
    "    isError = ((var_out<0.0)*(var_out<=-epsilon)).any().item()\n",
    "    if isError:\n",
    "        msg= f'ERROR in ReLUGauss: (mu: {mu}\\n, sigma: {sigma}\\n, mu_out: {mu_out}\\n, var_out: {var_out}\\n)'\n",
    "        print(msg)\n",
    "        raise Exception(msg)\n",
    "    \n",
    "#     if var_out[i]<0.0:\n",
    "#         if var_out[i]>-epsilon:  \n",
    "#             var_out[i] = 0.\n",
    "#             continue\n",
    "#         else:\n",
    "#             msg= 'ERROR in ReLUGauss: %f, %f, %f, %f'%(mu, sigma, mu_out[i], var_out[i])\n",
    "#             print(msg)\n",
    "#             raise Exception(msg)\n",
    "\n",
    "#     mu_out = mu_out*~idx_SmallSigma + idx_SmallSigma*torch.relu(mu)\n",
    "#     var_out *= ~idx_SmallSigma\n",
    "#     if cut_sd != None:\n",
    "#         mu_out = mu_out*~(idx_LargeMu*~idx_SmallSigma) + (idx_LargeMu*~idx_SmallSigma)*mu\n",
    "#         var_out = var_out*~(idx_LargeMu*~idx_SmallSigma) + (idx_LargeMu*~idx_SmallSigma)*var\n",
    "#         mu_out = mu_out*~(idx_SmallMU*~np.logical_or(idx_LargeMu,idx_SmallSigma).type(torch.bool))\n",
    "#         var_out = var_out*~(idx_SmallMU*~np.logical_or(idx_LargeMu,idx_SmallSigma).type(torch.bool))\n",
    "#         var_out = var_out*~(idx_SmallVarOut*~np.logical_or(np.logical_or(idx_LargeMu,idx_SmallSigma).type(torch.bool),idx_SmallMU).type(torch.bool))\n",
    "#     else:\n",
    "#         var_out = var_out*~(idx_SmallVarOut*~idx_SmallSigma)\n",
    "            \n",
    "    var_out = torch.diag_embed(var_out)\n",
    "    return mu_out, var_out"
   ]
  },
  {
   "cell_type": "code",
   "execution_count": 1414,
   "metadata": {
    "ExecuteTime": {
     "end_time": "2020-04-17T11:02:49.318910Z",
     "start_time": "2020-04-17T11:02:49.160174Z"
    }
   },
   "outputs": [
    {
     "name": "stderr",
     "output_type": "stream",
     "text": [
      "/home/yashima/anaconda3/lib/python3.7/site-packages/ipykernel_launcher.py:12: MatplotlibDeprecationWarning: Support for passing a (n, 1)-shaped error array to errorbar() is deprecated since Matplotlib 3.1 and will be removed in 3.3; pass a 1D array instead.\n",
      "  if sys.path[0] == '':\n"
     ]
    },
    {
     "data": {
      "image/png": "[encoded data removed]",
      "text/plain": [
       "<Figure size 432x288 with 1 Axes>"
      ]
     },
     "metadata": {
      "needs_background": "light"
     },
     "output_type": "display_data"
    }
   ],
   "source": [
    "length = 100\n",
    "start = -5\n",
    "end = 5\n",
    "waith = end - start\n",
    "x = torch.arange(start, end, waith/length).view(-1, 1)\n",
    "in_var = torch.ones(length, 1)\n",
    "y, out_var = ReLUGauss(x, in_var)\n",
    "out_var = out_var.reshape(-1, 1)\n",
    "\n",
    "fig = plt.figure()\n",
    "ax = fig.add_subplot(1,1,1)\n",
    "ax.errorbar(x, y, torch.sqrt(out_var), label=\"E[ReLU] +/- sd[ReLU]\")\n",
    "ax.plot(x, torch.relu(x), label=\"ReLU\")\n",
    "ax.grid()\n",
    "ax.legend(loc='upper left')\n",
    "plt.xlim(start, end)\n",
    "plt.ylim(-0.5, end+0.5)\n",
    "fig.show()"
   ]
  },
  {
   "cell_type": "markdown",
   "metadata": {},
   "source": [
    "## Custom DropOut"
   ]
  },
  {
   "cell_type": "code",
   "execution_count": 1522,
   "metadata": {
    "ExecuteTime": {
     "end_time": "2020-04-17T12:16:17.115378Z",
     "start_time": "2020-04-17T12:16:17.105919Z"
    }
   },
   "outputs": [],
   "source": [
    "class CustomDropout(nn.Module):\n",
    "    \n",
    "    __constants__ = ['p', 'inplace']\n",
    "\n",
    "    def __init__(self, p=0.5, inplace=False):\n",
    "        super(CustomDropout, self).__init__()\n",
    "        if p < 0 or p > 1:\n",
    "            raise ValueError(\"dropout probability has to be between 0 and 1, \"\n",
    "                             \"but got {}\".format(p))\n",
    "        self.p = p\n",
    "        self.inplace = inplace\n",
    "        self.flag = torch.zeros(1,1)\n",
    "    \n",
    "    def forward(self, input):\n",
    "        mu_in = input[0]\n",
    "        var_in = input[1]    \n",
    "        self.flag = F.dropout(torch.ones(mu_in.shape[0], mu_in.shape[1]), self.p, self.training, self.inplace)\n",
    "        try: \n",
    "            self.flag = self.flag.to(device)\n",
    "        finally:\n",
    "            pass\n",
    "        \n",
    "        mu_out = mu_in*self.flag\n",
    "        var_out = var_in*(torch.diag_embed(self.flag))\n",
    "        \n",
    "        return mu_out, var_out\n",
    "    \n",
    "    def extra_repr(self):\n",
    "        return 'p={}, inplace={}'.format(self.p, self.inplace)\n",
    "    \n",
    "    def to(self, *args, **kwargs):\n",
    "        self.b = self.flag.to(*args, **kwargs) \n",
    "        return self"
   ]
  },
  {
   "cell_type": "markdown",
   "metadata": {},
   "source": [
    "## Modeling"
   ]
  },
  {
   "cell_type": "code",
   "execution_count": 1490,
   "metadata": {
    "ExecuteTime": {
     "end_time": "2020-04-17T12:01:26.230415Z",
     "start_time": "2020-04-17T12:01:26.210560Z"
    }
   },
   "outputs": [],
   "source": [
    "def ModifyInput(input):\n",
    "    if input.dim() == 2:\n",
    "        mu = input[:, 0].unsqueeze(-1)\n",
    "        var = input[:, 1].unsqueeze(-1).unsqueeze(-1)\n",
    "    else:\n",
    "        raise Exception(\"Input shape should be (BATCH x 2).\")\n",
    "    return mu, var\n",
    "\n",
    "def ModifyOutput(input):\n",
    "    mu = input[0]\n",
    "    var = input[1]\n",
    "    out = torch.cat([mu, var], dim=1)\n",
    "        \n",
    "    return out\n",
    "\n",
    "\n",
    "class StochasticLinear(nn.Module):\n",
    "    \n",
    "    def __init__(self, in_features, out_features):\n",
    "        super(StochasticLinear, self).__init__()\n",
    "        self.in_features = in_features\n",
    "        self.out_features = out_features\n",
    "        self.weight = nn.Parameter(torch.Tensor(out_features, in_features))\n",
    "        self.bias = nn.Parameter(torch.Tensor(out_features))\n",
    "        self.reset_parameters()\n",
    "        \n",
    "    def reset_parameters(self):\n",
    "        nn.init.kaiming_uniform_(self.weight, a=math.sqrt(5))\n",
    "        fan_in, _ = nn.init._calculate_fan_in_and_fan_out(self.weight)\n",
    "        bound = 1 / math.sqrt(fan_in)\n",
    "        nn.init.uniform_(self.bias, -bound, bound)\n",
    "        \n",
    "    def forward(self, input):\n",
    "        mu_in = input[0]\n",
    "        var_in = input[1]\n",
    "        mu_out = mu_in @ self.weight.T + self.bias\n",
    "        var_out = torch.diagonal(self.weight @ var_in @ self.weight.T, dim1=-2, dim2=-1)\n",
    "                \n",
    "        return mu_out, var_out\n",
    "    \n",
    "    def extra_repr(self):\n",
    "        return 'in_features={}, out_features={}, bias={}'.format(\n",
    "            self.in_features, self.out_features, self.bias\n",
    "        )\n",
    "    \n",
    "    \n",
    "class StochasticReLU(nn.Module):\n",
    "    def __init__(self, inplace=False):\n",
    "        super(StochasticReLU, self).__init__()\n",
    "        self.inplace = inplace\n",
    "        \n",
    "    def forward(self, input):\n",
    "        mu_in = input[0]\n",
    "        var_in = input[1]\n",
    "        mu_out, var_out = ReLUGauss(mu_in, var_in)\n",
    "        return mu_out, var_out\n",
    "        \n",
    "    def extra_repr(self):\n",
    "        inplace_str = 'inplace=True' if self.inplace else ''\n",
    "        return inplace_str"
   ]
  },
  {
   "cell_type": "code",
   "execution_count": 1493,
   "metadata": {
    "ExecuteTime": {
     "end_time": "2020-04-17T12:01:41.750185Z",
     "start_time": "2020-04-17T12:01:41.741901Z"
    }
   },
   "outputs": [],
   "source": [
    "class StochasticRegressor(nn.Module):\n",
    "    \n",
    "    def __init__(self):\n",
    "        super(StochasticRegressor, self).__init__()\n",
    "        self.layer1 = StochasticLinear(1, 200)\n",
    "        self.layer2 = StochasticLinear(200, 200)\n",
    "        self.last = StochasticLinear(200, 1)\n",
    "        self.dropout = CustomDropout(p=0.01)\n",
    "        \n",
    "    def forward(self, x):\n",
    "        out = ModifyInput(x)\n",
    "        out = self.layer1(out)\n",
    "        out = StochasticReLU()(out)\n",
    "        out = self.dropout(out)\n",
    "        out = self.layer2(out)\n",
    "        out = StochasticReLU()(out)\n",
    "        out = self.dropout(out)\n",
    "        out = self.last(out)\n",
    "        out = ModifyOutput(out)\n",
    "        \n",
    "        return out"
   ]
  },
  {
   "cell_type": "code",
   "execution_count": 1494,
   "metadata": {
    "ExecuteTime": {
     "end_time": "2020-04-17T12:01:42.326620Z",
     "start_time": "2020-04-17T12:01:42.324859Z"
    }
   },
   "outputs": [],
   "source": [
    "# net = StochasticRegressor()\n",
    "# print(net)\n",
    "# summary(net,(2,))"
   ]
  },
  {
   "cell_type": "markdown",
   "metadata": {},
   "source": [
    "## Train"
   ]
  },
  {
   "cell_type": "code",
   "execution_count": 1495,
   "metadata": {
    "ExecuteTime": {
     "end_time": "2020-04-17T12:01:43.658022Z",
     "start_time": "2020-04-17T12:01:43.652219Z"
    }
   },
   "outputs": [],
   "source": [
    "def train(model, dataloader, num_epochs):   \n",
    "    model = nn.DataParallel(model)\n",
    "    model.to(device)\n",
    "    model.train()\n",
    "    \n",
    "    optimizer = torch.optim.Adam(model.parameters())\n",
    "    criterion = nn.MSELoss()\n",
    "    \n",
    "    for epoch in range(num_epochs):      \n",
    "        t_epoch_start = time.time()\n",
    "        epoch_loss = 0.0\n",
    "        \n",
    "        print('-------------')\n",
    "        print('Epoch {}/{}'.format(epoch+1, num_epochs))\n",
    "        print('-------------')\n",
    "        \n",
    "        for data in dataloader:       \n",
    "            batch_size = len(data[0])\n",
    "            x = data[0].to(device)\n",
    "            y = data[1].to(device)\n",
    "            out = model(x)\n",
    "            \n",
    "            loss = criterion(out, y)\n",
    "            optimizer.zero_grad()\n",
    "            loss.backward()\n",
    "            optimizer.step()\n",
    "            \n",
    "            epoch_loss += loss.item()\n",
    "            \n",
    "        t_epoch_finish = time.time()\n",
    "        print('-------------')\n",
    "        print('epoch {} || Loss:{:.4f} '.format(epoch, epoch_loss/batch_size))\n",
    "        print('timer:  {:.4f} sec.'.format(t_epoch_finish - t_epoch_start))\n",
    "        \n",
    "    return model"
   ]
  },
  {
   "cell_type": "code",
   "execution_count": 1523,
   "metadata": {
    "ExecuteTime": {
     "end_time": "2020-04-17T12:16:22.422996Z",
     "start_time": "2020-04-17T12:16:22.201204Z"
    },
    "scrolled": true
   },
   "outputs": [
    {
     "name": "stdout",
     "output_type": "stream",
     "text": [
      "-------------\n",
      "Epoch 1/1\n",
      "-------------\n",
      "-------------\n",
      "epoch 0 || Loss:3.0847 \n",
      "timer:  0.2036 sec.\n"
     ]
    }
   ],
   "source": [
    "dataset = StepDataset(ymax=4., x_var=0.25)\n",
    "dataloader = torch.utils.data.DataLoader(dataset,batch_size=16,shuffle=True)\n",
    "\n",
    "# model = StochasticRegressor()\n",
    "model = StochasticRegressor()\n",
    "\n",
    "model = train(model, dataloader, 1)"
   ]
  },
  {
   "cell_type": "markdown",
   "metadata": {},
   "source": [
    "## Validation"
   ]
  },
  {
   "cell_type": "markdown",
   "metadata": {},
   "source": [
    "### $N(x,0)$"
   ]
  },
  {
   "cell_type": "code",
   "execution_count": 1455,
   "metadata": {
    "ExecuteTime": {
     "end_time": "2020-04-17T11:37:12.900718Z",
     "start_time": "2020-04-17T11:37:12.632232Z"
    }
   },
   "outputs": [
    {
     "data": {
      "image/png": "[encoded data removed]",
      "text/plain": [
       "<Figure size 432x288 with 1 Axes>"
      ]
     },
     "metadata": {
      "needs_background": "light"
     },
     "output_type": "display_data"
    }
   ],
   "source": [
    "length = 100\n",
    "start = -3\n",
    "end = 3\n",
    "waith = end - start\n",
    "in_var = 1e-8\n",
    "val_x = torch.tensor([[i, in_var] for i in np.arange(start,end,waith/length)])\n",
    "val_y = (val_x[:,0]>0)*4\n",
    "\n",
    "pred_y = model(val_x).detach().cpu()\n",
    "mu = pred_y[:,0]\n",
    "var = pred_y[:,1]\n",
    "std = torch.sqrt(var)\n",
    "\n",
    "fig = plt.figure()\n",
    "ax = fig.add_subplot(1,1,1)\n",
    "ax.errorbar(val_x[:,0], mu, std, label=\"predict\")\n",
    "ax.plot(val_x[:,0], val_y, label=\"true\")\n",
    "ax.grid()\n",
    "ax.legend(loc='upper left')\n",
    "plt.xlim(-3, 3)\n",
    "plt.ylim(-0.5, 4.5)\n",
    "fig.show()"
   ]
  },
  {
   "cell_type": "markdown",
   "metadata": {},
   "source": [
    "### $N(x,0.5^2)$"
   ]
  },
  {
   "cell_type": "code",
   "execution_count": 1459,
   "metadata": {
    "ExecuteTime": {
     "end_time": "2020-04-17T11:41:40.067154Z",
     "start_time": "2020-04-17T11:41:39.783884Z"
    }
   },
   "outputs": [
    {
     "data": {
      "image/png": "[encoded data removed]",
      "text/plain": [
       "<Figure size 432x288 with 1 Axes>"
      ]
     },
     "metadata": {
      "needs_background": "light"
     },
     "output_type": "display_data"
    }
   ],
   "source": [
    "length = 100\n",
    "start = -3\n",
    "end = 3\n",
    "waith = end - start\n",
    "in_var = 1e-8\n",
    "val_x = torch.tensor([[i, in_var] for i in np.arange(start,end,waith/length)])\n",
    "val_y = (val_x[:,0]>0)*4\n",
    "\n",
    "pred_y = model(val_x).detach().cpu()\n",
    "mu = pred_y[:,0]\n",
    "var = pred_y[:,1]\n",
    "std = torch.sqrt(var)\n",
    "\n",
    "fig = plt.figure()\n",
    "ax = fig.add_subplot(1,1,1)\n",
    "ax.errorbar(val_x[:,0], mu, std, label=\"predict\")\n",
    "ax.plot(val_x[:,0], val_y, label=\"true\")\n",
    "ax.grid()\n",
    "ax.legend(loc='upper left')\n",
    "plt.xlim(-3, 3)\n",
    "plt.ylim(-1.5, 5.5)\n",
    "fig.show()"
   ]
  }
 ],
 "metadata": {
  "kernelspec": {
   "display_name": "torch-gpu",
   "language": "python",
   "name": "torch-gpu"
  },
  "language_info": {
   "codemirror_mode": {
    "name": "ipython",
    "version": 3
   },
   "file_extension": ".py",
   "mimetype": "text/x-python",
   "name": "python",
   "nbconvert_exporter": "python",
   "pygments_lexer": "ipython3",
   "version": "3.7.3"
  },
  "toc": {
   "base_numbering": 1,
   "nav_menu": {},
   "number_sections": true,
   "sideBar": true,
   "skip_h1_title": false,
   "title_cell": "Table of Contents",
   "title_sidebar": "Contents",
   "toc_cell": false,
   "toc_position": {},
   "toc_section_display": true,
   "toc_window_display": false
  }
 },
 "nbformat": 4,
 "nbformat_minor": 4
}
