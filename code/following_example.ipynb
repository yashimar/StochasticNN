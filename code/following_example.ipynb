{
 "cells": [
  {
   "cell_type": "markdown",
   "metadata": {},
   "source": [
    "# Setup"
   ]
  },
  {
   "cell_type": "markdown",
   "metadata": {},
   "source": [
    "## Imports"
   ]
  },
  {
   "cell_type": "code",
   "execution_count": 14,
   "metadata": {
    "ExecuteTime": {
     "end_time": "2020-04-23T04:42:33.554259Z",
     "start_time": "2020-04-23T04:42:33.550809Z"
    }
   },
   "outputs": [],
   "source": [
    "import os\n",
    "import random\n",
    "import math\n",
    "import time\n",
    "import matplotlib.pyplot as plt\n",
    "import pandas as pd\n",
    "import numpy as np\n",
    "from scipy import special\n",
    "\n",
    "import torch \n",
    "import torch.utils.data as data\n",
    "import torch.nn as nn\n",
    "import torch.nn.functional as F\n",
    "import torch.optim as optim\n",
    "\n",
    "from torchvision import transforms\n",
    "from torchsummary import summary"
   ]
  },
  {
   "cell_type": "markdown",
   "metadata": {},
   "source": [
    "## Global Variables"
   ]
  },
  {
   "cell_type": "code",
   "execution_count": 2,
   "metadata": {
    "ExecuteTime": {
     "end_time": "2020-04-23T04:34:16.460157Z",
     "start_time": "2020-04-23T04:34:16.430988Z"
    }
   },
   "outputs": [
    {
     "name": "stdout",
     "output_type": "stream",
     "text": [
      "device :  cuda\n",
      "num gpu :  4\n"
     ]
    }
   ],
   "source": [
    "import os\n",
    "os.environ[\"CUDA_VISIBLE_DEVICES\"]=\"0,1,2,3\"\n",
    "device = 'cuda' if torch.cuda.is_available() else 'cpu'\n",
    "# device = torch.device('cuda') \n",
    "print('device : ', device)\n",
    "print('num gpu : ', torch.cuda.device_count())"
   ]
  },
  {
   "cell_type": "code",
   "execution_count": 3,
   "metadata": {
    "ExecuteTime": {
     "end_time": "2020-04-23T04:34:16.486055Z",
     "start_time": "2020-04-23T04:34:16.461678Z"
    }
   },
   "outputs": [],
   "source": [
    "SEED = 42"
   ]
  },
  {
   "cell_type": "markdown",
   "metadata": {},
   "source": [
    "# Generate Data"
   ]
  },
  {
   "cell_type": "code",
   "execution_count": 4,
   "metadata": {
    "ExecuteTime": {
     "end_time": "2020-04-23T04:34:16.628211Z",
     "start_time": "2020-04-23T04:34:16.609886Z"
    },
    "code_folding": []
   },
   "outputs": [],
   "source": [
    "class StepDataset(data.Dataset):\n",
    "    \n",
    "    def __init__(self, upper=5, lower=-3, length=100, error_range=0.1, center=1, ymax=1., x_var=None, y_var=None, model_mean=None, seed=1234):\n",
    "        torch.manual_seed(seed)\n",
    "        np.random.seed(seed)\n",
    "        random.seed(seed)\n",
    "        \n",
    "        self.upper = upper\n",
    "        self.lower = lower\n",
    "        self.length = length\n",
    "        self.error_range = error_range\n",
    "        self.y_var = y_var\n",
    "        if self.y_var != None:\n",
    "            self.noise = np.array([np.random.normal(center,self.y_var) for i in range(self.length)]).reshape(-1,1).astype(np.float32)\n",
    "        else:\n",
    "            self.noise = np.array([2 * self.error_range * np. random.rand() - self.error_range for i in range(self.length)]).reshape(-1,1).astype(np.float32)\n",
    "            self.y_var = (2*self.error_range)**2/12\n",
    "        \n",
    "        if x_var != None:\n",
    "            self.input = np.array([[(self.upper - self.lower) * np. random.rand() + self.lower, x_var] for i in range(self.length)]).astype(np.float32)\n",
    "            self.output = np.array([[x.item()*ymax,self.y_var] for x in (self.input[:,0]>center)]).astype(np.float32)\n",
    "            self.output[:,0] += self.noise.reshape(-1)\n",
    "        else:    \n",
    "            self.input = np.array([(self.upper - self.lower) * np. random.rand() + self.lower for i in range(self.length)]).reshape(-1,1).astype(np.float32)\n",
    "            self.output = (ymax * (self.input > center) + self.noise).astype(np.float32)\n",
    "            if model_mean!=None:\n",
    "                pred = model_mean(torch.tensor(self.input)).to(\"cpu\")\n",
    "                self.output = torch.abs(torch.tensor(self.output) - pred)\n",
    "\n",
    "\n",
    "    def __len__(self):\n",
    "        return self.length\n",
    "    \n",
    "    def __getitem__(self, index):\n",
    "        x = self.input[index]\n",
    "        y = self.output[index]\n",
    "        \n",
    "        return x, y"
   ]
  },
  {
   "cell_type": "code",
   "execution_count": 5,
   "metadata": {
    "ExecuteTime": {
     "end_time": "2020-04-23T04:34:17.184165Z",
     "start_time": "2020-04-23T04:34:17.169584Z"
    }
   },
   "outputs": [
    {
     "data": {
      "text/plain": [
       "torch.Size([100, 1])"
      ]
     },
     "execution_count": 5,
     "metadata": {},
     "output_type": "execute_result"
    }
   ],
   "source": [
    "dataset = StepDataset(ymax=4.)\n",
    "dataloader = torch.utils.data.DataLoader(dataset,batch_size=100,shuffle=True)\n",
    "x, y = next(iter(dataloader))\n",
    "x.shape"
   ]
  },
  {
   "cell_type": "code",
   "execution_count": 63,
   "metadata": {
    "ExecuteTime": {
     "end_time": "2020-04-23T05:07:42.560841Z",
     "start_time": "2020-04-23T05:07:42.436441Z"
    }
   },
   "outputs": [
    {
     "data": {
      "image/png": "[encoded data removed]",
      "text/plain": [
       "<Figure size 432x288 with 1 Axes>"
      ]
     },
     "metadata": {
      "needs_background": "light"
     },
     "output_type": "display_data"
    }
   ],
   "source": [
    "# dataset = StepDataset(ymax=4.)\n",
    "dataset = StepDataset(5,-3,100,0.1,center=1,ymax=4.,seed=SEED)\n",
    "dataloader = torch.utils.data.DataLoader(dataset,batch_size=100,shuffle=True)\n",
    "x, y = next(iter(dataloader))\n",
    "x = x[:,0]\n",
    "y = y[:,0]\n",
    "\n",
    "\n",
    "plt.scatter(x, y)\n",
    "plt.xlim(-3, 5)\n",
    "plt.ylim(-1.5, 6.)\n",
    "plt.grid()\n",
    "plt.show()"
   ]
  },
  {
   "cell_type": "markdown",
   "metadata": {},
   "source": [
    "# Basic Regression Model"
   ]
  },
  {
   "cell_type": "markdown",
   "metadata": {},
   "source": [
    "## Modeling"
   ]
  },
  {
   "cell_type": "code",
   "execution_count": 7,
   "metadata": {
    "ExecuteTime": {
     "end_time": "2020-04-23T04:34:20.486505Z",
     "start_time": "2020-04-23T04:34:20.480947Z"
    }
   },
   "outputs": [],
   "source": [
    "class BasicRegressor(nn.Module):\n",
    "    \n",
    "    def __init__(self):\n",
    "        super(BasicRegressor, self).__init__()\n",
    "        self.layer1 = nn.Linear(1, 200)\n",
    "        self.layer2 = nn.Linear(200, 200)\n",
    "        self.last = nn.Linear(200, 1)\n",
    "        self.dropout = nn.Dropout(p=0.01)\n",
    "        \n",
    "    def forward(self, x):\n",
    "        out = self.layer1(x)\n",
    "        out = F.relu(out)\n",
    "        out = self.dropout(out)\n",
    "        out = self.layer2(out)\n",
    "        out = F.relu(out)\n",
    "        out = self.dropout(out)\n",
    "        out = self.last(out)\n",
    "        \n",
    "        return out"
   ]
  },
  {
   "cell_type": "code",
   "execution_count": 8,
   "metadata": {
    "ExecuteTime": {
     "end_time": "2020-04-23T04:34:24.403684Z",
     "start_time": "2020-04-23T04:34:21.504818Z"
    }
   },
   "outputs": [
    {
     "name": "stdout",
     "output_type": "stream",
     "text": [
      "BasicRegressor(\n",
      "  (layer1): Linear(in_features=1, out_features=200, bias=True)\n",
      "  (layer2): Linear(in_features=200, out_features=200, bias=True)\n",
      "  (last): Linear(in_features=200, out_features=1, bias=True)\n",
      "  (dropout): Dropout(p=0.01, inplace=False)\n",
      ")\n",
      "----------------------------------------------------------------\n",
      "        Layer (type)               Output Shape         Param #\n",
      "================================================================\n",
      "            Linear-1                  [-1, 200]             400\n",
      "           Dropout-2                  [-1, 200]               0\n",
      "            Linear-3                  [-1, 200]          40,200\n",
      "           Dropout-4                  [-1, 200]               0\n",
      "            Linear-5                    [-1, 1]             201\n",
      "================================================================\n",
      "Total params: 40,801\n",
      "Trainable params: 40,801\n",
      "Non-trainable params: 0\n",
      "----------------------------------------------------------------\n",
      "Input size (MB): 0.00\n",
      "Forward/backward pass size (MB): 0.01\n",
      "Params size (MB): 0.16\n",
      "Estimated Total Size (MB): 0.16\n",
      "----------------------------------------------------------------\n"
     ]
    }
   ],
   "source": [
    "net = BasicRegressor().to(device)\n",
    "print(net)\n",
    "summary(net,(1,))"
   ]
  },
  {
   "cell_type": "code",
   "execution_count": 9,
   "metadata": {
    "ExecuteTime": {
     "end_time": "2020-04-23T04:34:24.427007Z",
     "start_time": "2020-04-23T04:34:24.405770Z"
    }
   },
   "outputs": [
    {
     "data": {
      "text/plain": [
       "tensor([[0.1186]], grad_fn=<AddmmBackward>)"
      ]
     },
     "execution_count": 9,
     "metadata": {},
     "output_type": "execute_result"
    }
   ],
   "source": [
    "net = BasicRegressor()\n",
    "net(torch.tensor([[0.]]))"
   ]
  },
  {
   "cell_type": "markdown",
   "metadata": {},
   "source": [
    "## Train"
   ]
  },
  {
   "cell_type": "markdown",
   "metadata": {},
   "source": [
    "### Mean Model"
   ]
  },
  {
   "cell_type": "code",
   "execution_count": 40,
   "metadata": {
    "ExecuteTime": {
     "end_time": "2020-04-23T04:53:15.153584Z",
     "start_time": "2020-04-23T04:53:15.144248Z"
    }
   },
   "outputs": [],
   "source": [
    "def train_mean(model, dataloader, num_epochs, lr=2e-3, save_file=None):   \n",
    "    if (save_file!=None and os.path.exists(f'../logs/{save_file}.txt')): os.remove(f'../logs/{save_file}.txt')\n",
    "    \n",
    "    \n",
    "    model = nn.DataParallel(model)\n",
    "    model.to(device)\n",
    "    model.train()\n",
    "    \n",
    "    optimizer = torch.optim.Adam(model.parameters(), lr=lr)\n",
    "    criterion = nn.MSELoss()\n",
    "    \n",
    "    for epoch in range(num_epochs):      \n",
    "        t_epoch_start = time.time()\n",
    "        epoch_loss = 0.0\n",
    "        \n",
    "        for data in dataloader:       \n",
    "            batch_size = len(data[0])\n",
    "            x = data[0].to(device)\n",
    "            y = data[1].to(device)\n",
    "            out = model(x)\n",
    "            \n",
    "            loss = criterion(out, y)\n",
    "            optimizer.zero_grad()\n",
    "            loss.backward()\n",
    "            optimizer.step()\n",
    "            \n",
    "            epoch_loss += loss.item()\n",
    "            \n",
    "        t_epoch_finish = time.time()\n",
    "        if save_file!=None:\n",
    "            with open(f'../logs/{save_file}.txt', 'a') as f:\n",
    "                print('-------------', file=f)\n",
    "                print('Epoch {}/{}'.format(epoch+1, num_epochs),file=f)\n",
    "                print('epoch {} || Loss:{:.4f} '.format(epoch, epoch_loss/batch_size), file=f)\n",
    "                print('timer:  {:.4f} sec.'.format(t_epoch_finish - t_epoch_start), file=f)\n",
    "        else:\n",
    "            print('-------------')\n",
    "            print('Epoch {}/{}'.format(epoch+1, num_epochs))\n",
    "            print('epoch {} || Loss:{:.4f} '.format(epoch, epoch_loss/batch_size))\n",
    "            print('timer:  {:.4f} sec.'.format(t_epoch_finish - t_epoch_start))\n",
    "        \n",
    "    model.eval()        \n",
    "    return model"
   ]
  },
  {
   "cell_type": "code",
   "execution_count": 107,
   "metadata": {
    "ExecuteTime": {
     "end_time": "2020-04-23T05:25:18.105351Z",
     "start_time": "2020-04-23T05:25:12.094404Z"
    },
    "scrolled": true
   },
   "outputs": [],
   "source": [
    "dataset = StepDataset(5,-3,100,error_range=0.1,center=1,ymax=4.,seed=SEED)\n",
    "dataloader = torch.utils.data.DataLoader(dataset,batch_size=256,shuffle=True)\n",
    "\n",
    "model_mean = BasicRegressor()\n",
    "model_mean = train_mean(model_mean, dataloader,600,lr=1e-3, save_file=\"train_mean_step\")"
   ]
  },
  {
   "cell_type": "markdown",
   "metadata": {},
   "source": [
    "### Error Model"
   ]
  },
  {
   "cell_type": "code",
   "execution_count": 12,
   "metadata": {
    "ExecuteTime": {
     "end_time": "2020-04-22T15:59:02.847945Z",
     "start_time": "2020-04-22T15:59:02.845571Z"
    }
   },
   "outputs": [],
   "source": [
    "# dataset = StepDataset(ymax=4., model_mean=model_mean)\n",
    "# dataloader = torch.utils.data.DataLoader(dataset,batch_size=100,shuffle=True)\n",
    "# x, y = next(iter(dataloader))\n",
    "# y"
   ]
  },
  {
   "cell_type": "code",
   "execution_count": 21,
   "metadata": {
    "ExecuteTime": {
     "end_time": "2020-04-23T04:46:50.375678Z",
     "start_time": "2020-04-23T04:46:50.370785Z"
    }
   },
   "outputs": [],
   "source": [
    "class CustomLoss(nn.Module):\n",
    "    \n",
    "    def __init__(self, beta=0.1):\n",
    "        super(CustomLoss, self).__init__()\n",
    "        self.beta = beta\n",
    "        \n",
    "    def forward(self, x, y):\n",
    "        dist = torch.sum(\n",
    "            torch.pow((y - x).clamp(min=0.),2) + self.beta*torch.pow((y - x).clamp(max=0.),2)\n",
    "            )\n",
    "        loss = dist/(x.shape[0]*x.shape[1])\n",
    "        return loss"
   ]
  },
  {
   "cell_type": "code",
   "execution_count": 39,
   "metadata": {
    "ExecuteTime": {
     "end_time": "2020-04-23T04:52:41.115934Z",
     "start_time": "2020-04-23T04:52:41.099925Z"
    }
   },
   "outputs": [],
   "source": [
    "def train_error(model, dataloader, num_epochs, lr=2e-3, save_file=None):   \n",
    "    if (save_file!=None and os.path.exists(f'../logs/{save_file}.txt')): os.remove(f'../logs/{save_file}.txt')\n",
    "    \n",
    "    model = nn.DataParallel(model)\n",
    "    model.to(device)\n",
    "    model.train()\n",
    "    \n",
    "    optimizer = torch.optim.Adam(model.parameters(), lr=lr)\n",
    "    criterion = CustomLoss(beta=0.1)\n",
    "    \n",
    "    for epoch in range(num_epochs):      \n",
    "        t_epoch_start = time.time()\n",
    "        epoch_loss = 0.0\n",
    "        \n",
    "        for data in dataloader:       \n",
    "            batch_size = len(data[0])\n",
    "            x = data[0].to(device)\n",
    "            y = data[1].to(device)\n",
    "            out = model(x)\n",
    "            \n",
    "            loss = criterion(out, y)\n",
    "            optimizer.zero_grad()\n",
    "            loss.backward(retain_graph=True)\n",
    "            optimizer.step()\n",
    "            \n",
    "            epoch_loss += loss.item()\n",
    "            \n",
    "        t_epoch_finish = time.time()\n",
    "        if save_file!=None:\n",
    "            with open(f'../logs/{save_file}.txt', 'a') as f:\n",
    "                print('-------------', file=f)\n",
    "                print('Epoch {}/{}'.format(epoch+1, num_epochs),file=f)\n",
    "                print('epoch {} || Loss:{:.4f} '.format(epoch, epoch_loss/batch_size), file=f)\n",
    "                print('timer:  {:.4f} sec.'.format(t_epoch_finish - t_epoch_start), file=f)\n",
    "        else:\n",
    "            print('-------------')\n",
    "            print('Epoch {}/{}'.format(epoch+1, num_epochs))\n",
    "            print('epoch {} || Loss:{:.4f} '.format(epoch, epoch_loss/batch_size))\n",
    "            print('timer:  {:.4f} sec.'.format(t_epoch_finish - t_epoch_start))\n",
    "        \n",
    "    model.eval()        \n",
    "    return model"
   ]
  },
  {
   "cell_type": "code",
   "execution_count": 108,
   "metadata": {
    "ExecuteTime": {
     "end_time": "2020-04-23T05:25:26.121483Z",
     "start_time": "2020-04-23T05:25:18.107104Z"
    }
   },
   "outputs": [],
   "source": [
    "dataset = StepDataset(5,-3,100,error_range=0.1,center=1,ymax=4.,model_mean=model_mean,seed=SEED)\n",
    "dataloader = torch.utils.data.DataLoader(dataset,batch_size=256,shuffle=True)\n",
    "\n",
    "model_error = BasicRegressor()\n",
    "\n",
    "model_error = train_error(model_error, dataloader, 600, lr=1e-3, save_file=\"train_error_step\")"
   ]
  },
  {
   "cell_type": "markdown",
   "metadata": {},
   "source": [
    "## Validation"
   ]
  },
  {
   "cell_type": "code",
   "execution_count": 109,
   "metadata": {
    "ExecuteTime": {
     "end_time": "2020-04-23T05:25:38.847518Z",
     "start_time": "2020-04-23T05:25:38.651041Z"
    }
   },
   "outputs": [
    {
     "name": "stderr",
     "output_type": "stream",
     "text": [
      "/home/yashima/anaconda3/lib/python3.7/site-packages/ipykernel_launcher.py:14: MatplotlibDeprecationWarning: Support for passing a (n, 1)-shaped error array to errorbar() is deprecated since Matplotlib 3.1 and will be removed in 3.3; pass a 1D array instead.\n",
      "  \n"
     ]
    },
    {
     "data": {
      "image/png": "[encoded data removed]",
      "text/plain": [
       "<Figure size 432x288 with 1 Axes>"
      ]
     },
     "metadata": {
      "needs_background": "light"
     },
     "output_type": "display_data"
    }
   ],
   "source": [
    "length = 100\n",
    "start = -3\n",
    "end = 5\n",
    "waith = end - start\n",
    "val_x = torch.tensor([[i] for i in np.arange(start,end,waith/length)])\n",
    "val_y = (val_x>1)*4\n",
    "pred_y = model_mean(val_x).detach().cpu()\n",
    "pred_std = model_error(val_x).detach().cpu()\n",
    "\n",
    "\n",
    "fig = plt.figure()\n",
    "ax = fig.add_subplot(1,1,1)\n",
    "# ax.plot(val_x, pred_y,  label=\"predict\")\n",
    "ax.errorbar(val_x, pred_y, pred_std, label=\"predict\")\n",
    "ax.plot(val_x, val_y, label=\"true\",c=\"red\")\n",
    "\n",
    "\n",
    "dataset = StepDataset(5,-3,100,0.1,center=1,ymax=4.,seed=SEED)\n",
    "dataloader = torch.utils.data.DataLoader(dataset,batch_size=100,shuffle=True)\n",
    "x, y = next(iter(dataloader))\n",
    "x = x[:,0]\n",
    "y = y[:,0]\n",
    "ax.scatter(x, y,c=\"orange\",label=\"sample\")\n",
    "\n",
    "\n",
    "ax.grid()\n",
    "ax.legend(loc='upper left')\n",
    "plt.xlim(-3, 5)\n",
    "plt.ylim(-1.5, 6)\n",
    "fig.show()"
   ]
  },
  {
   "cell_type": "markdown",
   "metadata": {},
   "source": [
    "# Stochastic Reression Model"
   ]
  },
  {
   "cell_type": "markdown",
   "metadata": {},
   "source": [
    "## Modeling"
   ]
  },
  {
   "cell_type": "markdown",
   "metadata": {},
   "source": [
    "### Modified ReLU"
   ]
  },
  {
   "cell_type": "code",
   "execution_count": 98,
   "metadata": {
    "ExecuteTime": {
     "end_time": "2020-04-23T05:21:31.008429Z",
     "start_time": "2020-04-23T05:21:30.998379Z"
    }
   },
   "outputs": [],
   "source": [
    "def ReLUGauss(mu_in, var_in, epsilon=1.0e-6, cut_sd=4.0):\n",
    "    mu_out = torch.zeros(mu_in.shape[0], mu_in.shape[1])\n",
    "    var_out = torch.zeros(var_in.shape[0], var_in.shape[1])\n",
    "    mu = mu_in\n",
    "    var = var_in\n",
    "    sigma = torch.sqrt(var+1e-16)\n",
    "\n",
    "    if (var < 0).any().item(): raise Exception(f\"ERROR in ReLUGauss: 'var_in' should be all positive value, but it has negative value.\")\n",
    "    idx_SmallSigma = (sigma < epsilon)\n",
    "    if cut_sd != None:\n",
    "        idx_LargeMu = (mu > cut_sd*sigma)\n",
    "        idx_SmallMU = (mu < -cut_sd*sigma)\n",
    "\n",
    "    sqrt2 = math.sqrt(2.0)\n",
    "    sqrt2pi = math.sqrt(2.0*math.pi)    \n",
    "    z = mu / (sqrt2*sigma+1e-16)\n",
    "    E = torch.erf(z)\n",
    "    X = torch.exp(-z*z)\n",
    "    mu_out = sigma/sqrt2pi*X + mu/2.0*(1.0+E)\n",
    "    var_out = (1.0+E)/4.0*(mu*mu*(1.0-E)+2.0*var) - sigma*X/sqrt2pi*(sigma*X/sqrt2pi+mu*E)\n",
    "    \n",
    "    idx_SmallVarOut = (var_out<0.0)*(var_out>-epsilon)\n",
    "    isError = ((var_out<0.0)*(var_out<=-epsilon)).any().item()\n",
    "    if isError:\n",
    "        msg= f'ERROR in ReLUGauss: (mu: {mu}\\n, sigma: {sigma}\\n, mu_out: {mu_out}\\n, var_out: {var_out}\\n)'\n",
    "        print(msg)\n",
    "        raise Exception(msg)\n",
    "\n",
    "\n",
    "    mu_out = mu_out*~idx_SmallSigma + idx_SmallSigma*torch.relu(mu)\n",
    "    var_out *= ~idx_SmallSigma\n",
    "    if cut_sd != None:\n",
    "        mu_out = mu_out*~(idx_LargeMu*~idx_SmallSigma) + (idx_LargeMu*~idx_SmallSigma)*mu\n",
    "        var_out = var_out*~(idx_LargeMu*~idx_SmallSigma) + (idx_LargeMu*~idx_SmallSigma)*var\n",
    "        mu_out = mu_out*~(idx_SmallMU*~(idx_LargeMu|idx_SmallSigma))\n",
    "        var_out = var_out*~(idx_SmallMU*~(idx_LargeMu|idx_SmallSigma))\n",
    "        var_out = var_out*~(idx_SmallVarOut*~((idx_LargeMu|idx_SmallSigma)|idx_SmallMU))\n",
    "    else:\n",
    "        var_out = var_out*~(idx_SmallVarOut*~idx_SmallSigma)\n",
    "            \n",
    "    var_out = torch.diag_embed(var_out)\n",
    "    \n",
    "    return mu_out, var_out"
   ]
  },
  {
   "cell_type": "code",
   "execution_count": 99,
   "metadata": {
    "ExecuteTime": {
     "end_time": "2020-04-23T05:21:33.231465Z",
     "start_time": "2020-04-23T05:21:33.066563Z"
    }
   },
   "outputs": [
    {
     "name": "stderr",
     "output_type": "stream",
     "text": [
      "/home/yashima/anaconda3/lib/python3.7/site-packages/ipykernel_launcher.py:12: MatplotlibDeprecationWarning: Support for passing a (n, 1)-shaped error array to errorbar() is deprecated since Matplotlib 3.1 and will be removed in 3.3; pass a 1D array instead.\n",
      "  if sys.path[0] == '':\n"
     ]
    },
    {
     "data": {
      "image/png": "[encoded data removed]",
      "text/plain": [
       "<Figure size 432x288 with 1 Axes>"
      ]
     },
     "metadata": {
      "needs_background": "light"
     },
     "output_type": "display_data"
    }
   ],
   "source": [
    "length = 100\n",
    "start = -5\n",
    "end = 5\n",
    "waith = end - start\n",
    "x = torch.arange(start, end, waith/length).view(-1, 1)\n",
    "in_var = torch.ones(length, 1)\n",
    "y, out_var = ReLUGauss(x, in_var)\n",
    "out_var = out_var.reshape(-1, 1)\n",
    "\n",
    "fig = plt.figure()\n",
    "ax = fig.add_subplot(1,1,1)\n",
    "ax.errorbar(x, y, torch.sqrt(out_var), label=\"E[ReLU] +/- sd[ReLU]\")\n",
    "ax.plot(x, torch.relu(x), label=\"ReLU\")\n",
    "ax.grid()\n",
    "ax.legend(loc='upper left')\n",
    "plt.xlim(start, end)\n",
    "plt.ylim(-0.5, end+0.5)\n",
    "fig.show()"
   ]
  },
  {
   "cell_type": "markdown",
   "metadata": {},
   "source": [
    "Fig. 2. Expectation of ReLU."
   ]
  },
  {
   "cell_type": "markdown",
   "metadata": {},
   "source": [
    "### Custom DropOut"
   ]
  },
  {
   "cell_type": "code",
   "execution_count": 27,
   "metadata": {
    "ExecuteTime": {
     "end_time": "2020-04-23T04:49:01.306886Z",
     "start_time": "2020-04-23T04:49:01.299641Z"
    }
   },
   "outputs": [],
   "source": [
    "class CustomDropout(nn.Module):\n",
    "    \n",
    "    __constants__ = ['p', 'inplace']\n",
    "\n",
    "    def __init__(self, p=0.5, inplace=False):\n",
    "        super(CustomDropout, self).__init__()\n",
    "        if p < 0 or p > 1:\n",
    "            raise ValueError(\"dropout probability has to be between 0 and 1, \"\n",
    "                             \"but got {}\".format(p))\n",
    "        self.p = p\n",
    "        self.inplace = inplace\n",
    "        self.flag = torch.zeros(1,1)\n",
    "    \n",
    "    def forward(self, input):\n",
    "        mu_in = input[0]\n",
    "        var_in = input[1]    \n",
    "        self.flag = F.dropout(torch.ones(mu_in.shape[0], mu_in.shape[1]), self.p, self.training, self.inplace)\n",
    "        self.flag = self.flag.to(device)\n",
    "        try:           \n",
    "            mu_out = mu_in*self.flag\n",
    "            var_out = var_in*(torch.diag_embed(self.flag))\n",
    "        except:     \n",
    "            self.flag = self.flag.to(\"cpu\")\n",
    "            mu_out = mu_in*self.flag\n",
    "            var_out = var_in*(torch.diag_embed(self.flag))\n",
    "        \n",
    "        return mu_out, var_out\n",
    "    \n",
    "    def extra_repr(self):\n",
    "        return 'p={}, inplace={}'.format(self.p, self.inplace)\n",
    "    \n",
    "    def to(self, *args, **kwargs):\n",
    "        self.b = self.flag.to(*args, **kwargs) \n",
    "        return self"
   ]
  },
  {
   "cell_type": "markdown",
   "metadata": {},
   "source": [
    "### Modeling"
   ]
  },
  {
   "cell_type": "code",
   "execution_count": 28,
   "metadata": {
    "ExecuteTime": {
     "end_time": "2020-04-23T04:49:05.389030Z",
     "start_time": "2020-04-23T04:49:05.378753Z"
    }
   },
   "outputs": [],
   "source": [
    "def ModifyInput(input):\n",
    "    if input.dim() == 2:\n",
    "        mu = input[:, 0].unsqueeze(-1)\n",
    "        var = input[:, 1].unsqueeze(-1).unsqueeze(-1)\n",
    "    else:\n",
    "        raise Exception(\"Input shape should be (BATCH x 2).\")\n",
    "    return mu, var\n",
    "\n",
    "def ModifyOutput(input):\n",
    "    mu = input[0]\n",
    "    var = input[1]\n",
    "    out = torch.cat([mu, var], dim=1)\n",
    "        \n",
    "    return out\n",
    "\n",
    "\n",
    "class StochasticLinear(nn.Module):\n",
    "    \n",
    "    def __init__(self, in_features, out_features):\n",
    "        super(StochasticLinear, self).__init__()\n",
    "        self.in_features = in_features\n",
    "        self.out_features = out_features\n",
    "        self.weight = nn.Parameter(torch.Tensor(out_features, in_features))\n",
    "        self.bias = nn.Parameter(torch.Tensor(out_features))\n",
    "        self.reset_parameters()\n",
    "        \n",
    "    def reset_parameters(self):\n",
    "        nn.init.kaiming_uniform_(self.weight, a=math.sqrt(5))\n",
    "        fan_in, _ = nn.init._calculate_fan_in_and_fan_out(self.weight)\n",
    "        bound = 1 / math.sqrt(fan_in)\n",
    "        nn.init.uniform_(self.bias, -bound, bound)\n",
    "        \n",
    "    def forward(self, input):\n",
    "        mu_in = input[0]\n",
    "        var_in = input[1]\n",
    "        mu_out = mu_in @ self.weight.T + self.bias\n",
    "        var_out = torch.diagonal(self.weight @ var_in @ self.weight.T, dim1=-2, dim2=-1)\n",
    "                \n",
    "        return mu_out, var_out\n",
    "    \n",
    "    def extra_repr(self):\n",
    "        return 'in_features={}, out_features={}, bias={}'.format(\n",
    "            self.in_features, self.out_features, self.bias\n",
    "        )\n",
    "    \n",
    "    \n",
    "class StochasticReLU(nn.Module):\n",
    "    def __init__(self, inplace=False):\n",
    "        super(StochasticReLU, self).__init__()\n",
    "        self.inplace = inplace\n",
    "        \n",
    "    def forward(self, input):\n",
    "        mu_in = input[0]\n",
    "        var_in = input[1]\n",
    "        mu_out, var_out = ReLUGauss(mu_in, var_in)\n",
    "        return mu_out, var_out\n",
    "        \n",
    "    def extra_repr(self):\n",
    "        inplace_str = 'inplace=True' if self.inplace else ''\n",
    "        return inplace_str"
   ]
  },
  {
   "cell_type": "code",
   "execution_count": 29,
   "metadata": {
    "ExecuteTime": {
     "end_time": "2020-04-23T04:49:05.625584Z",
     "start_time": "2020-04-23T04:49:05.619401Z"
    }
   },
   "outputs": [],
   "source": [
    "class StochasticRegressor(nn.Module):\n",
    "    \n",
    "    def __init__(self):\n",
    "        super(StochasticRegressor, self).__init__()\n",
    "        self.layer1 = StochasticLinear(1, 200)\n",
    "        self.layer2 = StochasticLinear(200, 200)\n",
    "        self.last = StochasticLinear(200, 1)\n",
    "        self.dropout = CustomDropout(p=0.01)\n",
    "        \n",
    "    def forward(self, x):\n",
    "        out = ModifyInput(x)\n",
    "        out = self.layer1(out)\n",
    "        out = StochasticReLU()(out)\n",
    "        out = self.dropout(out)\n",
    "        out = self.layer2(out)\n",
    "        out = StochasticReLU()(out)\n",
    "        out = self.dropout(out)\n",
    "        out = self.last(out)\n",
    "        out = ModifyOutput(out)\n",
    "        \n",
    "        return out"
   ]
  },
  {
   "cell_type": "markdown",
   "metadata": {},
   "source": [
    "## Get Weights"
   ]
  },
  {
   "cell_type": "code",
   "execution_count": 32,
   "metadata": {
    "ExecuteTime": {
     "end_time": "2020-04-23T04:50:38.183085Z",
     "start_time": "2020-04-23T04:50:38.177877Z"
    }
   },
   "outputs": [],
   "source": [
    "def LoadMeanWeight(model_mean, model_stochastic):\n",
    "    length = len(model_mean.state_dict().keys())\n",
    "    keys_mean = iter(model_mean.state_dict().keys())\n",
    "    keys_stochastic = iter(model_stochastic.state_dict().keys())\n",
    "    for i in range(length):\n",
    "        model_stochastic.state_dict()[next(keys_stochastic)][:] = model_mean.state_dict()[next(keys_mean)]\n",
    "    \n",
    "    model_stochastic.eval()\n",
    "    return model_stochastic"
   ]
  },
  {
   "cell_type": "code",
   "execution_count": 112,
   "metadata": {
    "ExecuteTime": {
     "end_time": "2020-04-23T05:26:25.464698Z",
     "start_time": "2020-04-23T05:26:25.459150Z"
    }
   },
   "outputs": [],
   "source": [
    "model_stochastic = StochasticRegressor()\n",
    "model_stochastic = LoadMeanWeight(model_mean, model_stochastic)"
   ]
  },
  {
   "cell_type": "markdown",
   "metadata": {},
   "source": [
    "## Prediction"
   ]
  },
  {
   "cell_type": "code",
   "execution_count": 113,
   "metadata": {
    "ExecuteTime": {
     "end_time": "2020-04-23T05:26:26.774938Z",
     "start_time": "2020-04-23T05:26:26.241696Z"
    }
   },
   "outputs": [
    {
     "data": {
      "image/png": "[encoded data removed]",
      "text/plain": [
       "<Figure size 720x360 with 2 Axes>"
      ]
     },
     "metadata": {
      "needs_background": "light"
     },
     "output_type": "display_data"
    }
   ],
   "source": [
    "dataset = StepDataset(5,-3,100,0.1,center=1,ymax=4.,seed=SEED)\n",
    "dataloader = torch.utils.data.DataLoader(dataset,batch_size=100,shuffle=True)\n",
    "x, y = next(iter(dataloader))\n",
    "x = x[:,0]\n",
    "y = y[:,0]\n",
    "\n",
    "\n",
    "length = 100\n",
    "start = -3\n",
    "end = 5\n",
    "waith = end - start\n",
    "in_var1 = 0.\n",
    "in_var2 = 0.25\n",
    "val_x1 = torch.tensor([[i, in_var1] for i in np.arange(start,end,waith/length)])\n",
    "val_x2 = torch.tensor([[i, in_var2] for i in np.arange(start,end,waith/length)])\n",
    "val_y = (val_x1[:,0]>1)*4\n",
    "\n",
    "pred_y1 = model_stochastic(val_x1).detach().cpu()\n",
    "mu1 = pred_y1[:,0]\n",
    "std1 = torch.sqrt(pred_y1[:,1] + torch.pow(model_error(val_x[:,0].view(-1,1)).detach().cpu(),2).view(-1))\n",
    "\n",
    "pred_y2 = model_stochastic(val_x2).detach().cpu()\n",
    "mu2 = pred_y2[:,0]\n",
    "std2 = torch.sqrt(pred_y1[:,1] + torch.pow(model_error(val_x[:,0].view(-1,1)).detach().cpu(),2).view(-1))\n",
    "\n",
    "\n",
    "fig = plt.figure(figsize=(10, 5))\n",
    "ax1 = fig.add_subplot(1,2,1)\n",
    "ax1.errorbar(val_x[:,0], mu1, std1, label=\"NN (mean+std, x_sd=0)\")\n",
    "ax1.plot(val_x[:,0], val_y, label=\"true\",c=\"r\")\n",
    "ax1.scatter(x, y,c=\"orange\",label=\"sample\")\n",
    "ax1.grid()\n",
    "ax1.legend(loc='upper left')\n",
    "plt.xlim(-3, 5)\n",
    "plt.ylim(-1.5, 6.5)\n",
    "\n",
    "ax2 = fig.add_subplot(1,2,2)\n",
    "ax2.errorbar(val_x[:,0], mu2, std2, label=\"NN (mean+std, x_sd=0.5)\")\n",
    "ax2.plot(val_x[:,0], val_y, label=\"true\",c=\"r\")\n",
    "ax2.scatter(x, y,c=\"orange\",label=\"sample\")\n",
    "ax2.grid()\n",
    "ax2.legend(loc='upper left')\n",
    "plt.xlim(-3, 5)\n",
    "plt.ylim(-1.5, 6.5)\n",
    "\n",
    "fig.show()"
   ]
  },
  {
   "cell_type": "markdown",
   "metadata": {},
   "source": [
    "Fig. 3. Learning a step function."
   ]
  },
  {
   "cell_type": "markdown",
   "metadata": {},
   "source": [
    "# Regressrion Linear Function with changing noize"
   ]
  },
  {
   "cell_type": "code",
   "execution_count": 35,
   "metadata": {
    "ExecuteTime": {
     "end_time": "2020-04-23T04:50:57.526848Z",
     "start_time": "2020-04-23T04:50:57.517501Z"
    }
   },
   "outputs": [],
   "source": [
    "class LinearDataset(data.Dataset):\n",
    "    \n",
    "    def __init__(self, upper=5, lower=-5, length=100, error_range1=1, error_range2=0.25, model_mean=None, seed=1234):\n",
    "        torch.manual_seed(seed)\n",
    "        np.random.seed(seed)\n",
    "        random.seed(seed)\n",
    "        \n",
    "        self.length = length\n",
    "        noise1 = np.array([np.random.uniform(-error_range1,error_range1) for i in range(self.length)]).reshape(-1,1).astype(np.float32)\n",
    "        noise2 = np.array([np.random.uniform(-error_range2,error_range2) for i in range(self.length)]).reshape(-1,1).astype(np.float32)\n",
    "         \n",
    "        self.input = np.array([np.random.uniform(lower,upper) for i in range(self.length)]).reshape(-1,1).astype(np.float32)\n",
    "        self.output = (0.5 * self.input).astype(np.float32)\n",
    "        self.output[np.abs(self.output)<1] += np.array([np.random.uniform(-error_range1,error_range1) for i in range(len(self.output[np.abs(self.output)<1]))]).astype(np.float32)\n",
    "        self.output[np.abs(self.output)>=1] += np.array([np.random.uniform(-error_range2,error_range2) for i in range(len(self.output[np.abs(self.output)>=1]))]).astype(np.float32)\n",
    "        if model_mean!=None:\n",
    "            pred = model_mean(torch.tensor(self.input)).to(\"cpu\")\n",
    "            self.output = torch.abs(torch.tensor(self.output) - pred)\n",
    "\n",
    "    def __len__(self):\n",
    "        return self.length\n",
    "    \n",
    "    def __getitem__(self, index):\n",
    "        x = self.input[index]\n",
    "        y = self.output[index]\n",
    "        \n",
    "        return x, y"
   ]
  },
  {
   "cell_type": "code",
   "execution_count": 36,
   "metadata": {
    "ExecuteTime": {
     "end_time": "2020-04-23T04:50:58.032273Z",
     "start_time": "2020-04-23T04:50:57.910377Z"
    }
   },
   "outputs": [
    {
     "data": {
      "image/png": "[encoded data removed]",
      "text/plain": [
       "<Figure size 432x288 with 1 Axes>"
      ]
     },
     "metadata": {
      "needs_background": "light"
     },
     "output_type": "display_data"
    }
   ],
   "source": [
    "dataset = LinearDataset(length=300,seed=SEED)\n",
    "dataloader = torch.utils.data.DataLoader(dataset,batch_size=300,shuffle=True)\n",
    "x, y = next(iter(dataloader))\n",
    "\n",
    "plt.scatter(x, y)\n",
    "plt.xlim(-6, 6)\n",
    "plt.ylim(-3, 3)\n",
    "plt.grid()\n",
    "plt.show()"
   ]
  },
  {
   "cell_type": "code",
   "execution_count": 41,
   "metadata": {
    "ExecuteTime": {
     "end_time": "2020-04-23T04:53:29.659174Z",
     "start_time": "2020-04-23T04:53:28.222034Z"
    },
    "scrolled": true
   },
   "outputs": [],
   "source": [
    "dataset = LinearDataset(error_range1=3, length=300,seed=SEED)\n",
    "dataloader = torch.utils.data.DataLoader(dataset,batch_size=64,shuffle=True)\n",
    "\n",
    "model_mean_l = BasicRegressor()\n",
    "model_mean_l = train_mean(model_mean_l, dataloader,30, save_file=\"train_mean_linear\")"
   ]
  },
  {
   "cell_type": "code",
   "execution_count": 42,
   "metadata": {
    "ExecuteTime": {
     "end_time": "2020-04-23T04:54:05.510259Z",
     "start_time": "2020-04-23T04:53:47.163285Z"
    },
    "scrolled": true
   },
   "outputs": [],
   "source": [
    "dataset = LinearDataset(error_range1=3, length=300, model_mean=model_mean_l,seed=SEED)\n",
    "dataloader = torch.utils.data.DataLoader(dataset,batch_size=64,shuffle=True)\n",
    "\n",
    "model_error_l = BasicRegressor()\n",
    "model_error_l = train_error(model_error_l, dataloader,300, save_file=\"train_error_linear\")"
   ]
  },
  {
   "cell_type": "code",
   "execution_count": 43,
   "metadata": {
    "ExecuteTime": {
     "end_time": "2020-04-23T04:54:08.242605Z",
     "start_time": "2020-04-23T04:54:07.900127Z"
    }
   },
   "outputs": [
    {
     "name": "stderr",
     "output_type": "stream",
     "text": [
      "/home/yashima/anaconda3/lib/python3.7/site-packages/ipykernel_launcher.py:13: MatplotlibDeprecationWarning: Support for passing a (n, 1)-shaped error array to errorbar() is deprecated since Matplotlib 3.1 and will be removed in 3.3; pass a 1D array instead.\n",
      "  del sys.path[0]\n"
     ]
    },
    {
     "data": {
      "image/png": "[encoded data removed]",
      "text/plain": [
       "<Figure size 576x432 with 2 Axes>"
      ]
     },
     "metadata": {
      "needs_background": "light"
     },
     "output_type": "display_data"
    }
   ],
   "source": [
    "length = 100\n",
    "start = -5\n",
    "end = 5\n",
    "waith = end - start\n",
    "val_x = torch.tensor([[i] for i in np.arange(start,end,waith/length)])\n",
    "val_y = 0.5*val_x\n",
    "pred_y = model_mean_l(val_x).detach().cpu()\n",
    "pred_std = model_error_l(val_x).detach().cpu()\n",
    "\n",
    "\n",
    "fig = plt.figure(figsize=(8, 6))\n",
    "ax = fig.add_subplot(2,1,1)\n",
    "ax.errorbar(val_x, pred_y, pred_std, label=\"NN (F(x), x_sd=0)\")\n",
    "ax.plot(val_x, val_y, label=\"true (y=0.5x)\",c=\"g\")\n",
    "\n",
    "dataset = LinearDataset(error_range1=3, length=300,seed=SEED)\n",
    "dataloader = torch.utils.data.DataLoader(dataset,batch_size=300,shuffle=True)\n",
    "x, y = next(iter(dataloader))\n",
    "ax.scatter(x, y,c=\"r\",label=\"sample\")\n",
    "\n",
    "ax.grid()\n",
    "ax.legend(loc='upper left')\n",
    "plt.xlim(-6, 6)\n",
    "plt.ylim(-4, 4)\n",
    "\n",
    "\n",
    "\n",
    "dataset = LinearDataset(error_range1=3, length=300, model_mean=model_mean_l,seed=SEED)\n",
    "dataloader = torch.utils.data.DataLoader(dataset,batch_size=300,shuffle=True)\n",
    "dataloader = iter(dataloader)\n",
    "x,y = next(dataloader)\n",
    "y = y.detach().cpu()\n",
    "\n",
    "ax = fig.add_subplot(2,1,2)\n",
    "ax.scatter(x,y,c=\"r\",label=\"sample (f_abs(y-F(x)))\")\n",
    "ax.plot(val_x,pred_std,label=\"NN (Delta F(x))\")\n",
    "\n",
    "ax.grid()\n",
    "ax.legend(loc='upper left')\n",
    "plt.xlim(-6, 6)\n",
    "plt.ylim(-0.3, 4)\n",
    "\n",
    "\n",
    "fig.show()"
   ]
  },
  {
   "cell_type": "markdown",
   "metadata": {},
   "source": [
    "Fig. 4. Learning $y=0.5x$ with output noise depending on $x$."
   ]
  }
 ],
 "metadata": {
  "kernelspec": {
   "display_name": "Python 3",
   "language": "python",
   "name": "python3"
  },
  "language_info": {
   "codemirror_mode": {
    "name": "ipython",
    "version": 3
   },
   "file_extension": ".py",
   "mimetype": "text/x-python",
   "name": "python",
   "nbconvert_exporter": "python",
   "pygments_lexer": "ipython3",
   "version": "3.7.3"
  },
  "toc": {
   "base_numbering": 1,
   "nav_menu": {},
   "number_sections": true,
   "sideBar": true,
   "skip_h1_title": false,
   "title_cell": "Table of Contents",
   "title_sidebar": "Contents",
   "toc_cell": false,
   "toc_position": {},
   "toc_section_display": true,
   "toc_window_display": false
  }
 },
 "nbformat": 4,
 "nbformat_minor": 4
}
